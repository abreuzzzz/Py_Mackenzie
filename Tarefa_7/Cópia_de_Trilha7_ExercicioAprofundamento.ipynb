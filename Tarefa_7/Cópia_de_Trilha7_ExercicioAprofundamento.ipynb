{
  "nbformat": 4,
  "nbformat_minor": 0,
  "metadata": {
    "kernelspec": {
      "display_name": "R",
      "language": "R",
      "name": "ir"
    },
    "language_info": {
      "codemirror_mode": "r",
      "file_extension": ".r",
      "mimetype": "text/x-r-source",
      "name": "R",
      "pygments_lexer": "r",
      "version": "4.1.0"
    },
    "colab": {
      "name": "Cópia de Trilha7_ExercicioAprofundamento.ipynb",
      "provenance": [],
      "include_colab_link": true
    }
  },
  "cells": [
    {
      "cell_type": "markdown",
      "metadata": {
        "id": "view-in-github",
        "colab_type": "text"
      },
      "source": [
        "<a href=\"https://colab.research.google.com/github/abreuzzzz/Py_Mackenzie/blob/main/Tarefa_7/C%C3%B3pia_de_Trilha7_ExercicioAprofundamento.ipynb\" target=\"_parent\"><img src=\"https://colab.research.google.com/assets/colab-badge.svg\" alt=\"Open In Colab\"/></a>"
      ]
    },
    {
      "cell_type": "markdown",
      "metadata": {
        "id": "nyDUaSAsbDnu"
      },
      "source": [
        "## Exercício de Aprofundamento - Trilha 7 "
      ]
    },
    {
      "cell_type": "markdown",
      "metadata": {
        "id": "FDT0TyYybDn1"
      },
      "source": [
        "Faça as manipulações e explorações visuais de acordo com as perguntas que precisam ser respondidas"
      ]
    },
    {
      "cell_type": "markdown",
      "metadata": {
        "id": "GJhqp5-_bDn3"
      },
      "source": [
        "## Análise de dados da NFL "
      ]
    },
    {
      "cell_type": "markdown",
      "metadata": {
        "id": "mXeLBZ3nbDn4"
      },
      "source": [
        "Pacote do R: https://cran.r-project.org/web/packages/nflfastR/index.html\n",
        "\n",
        "Este pacote permite que dados da NFL sejam analisados, jogada a jogada, habilitando diversos tipos de tomada de decisão a partir de manipulação dos dados e geração de gráficos.\n",
        "\n",
        "Nesta atividade de aprofundamento, vamos explorar itens estudados tanto na trilha 6 com o pacote **Tidyverse** quanto na trilha 7 com o pacote **ggplot2**.\n",
        "\n",
        "Algumas partes desta atividade já estão prontas, como por exemplo, o carregamento do conjunto de dados geral, a impressão dos escudos dos times e a segmentação de sub-conjuntos de dados para permitir uma manipulação mais simples na atividade.\n",
        "\n",
        "Começamos então, com a instalação do pacote *nflfastR* e os carregamentos dos pacotes necessários."
      ]
    },
    {
      "cell_type": "code",
      "metadata": {
        "id": "ekwPf47hbDn5",
        "outputId": "04eb5e2e-160b-4a97-faba-cf81ff044024",
        "colab": {
          "base_uri": "https://localhost:8080/"
        }
      },
      "source": [
        "install.packages(\"nflfastR\")\n",
        "install.packages(\"ggimage\")\n",
        "#install.packages(\"imager\")\n"
      ],
      "execution_count": 1,
      "outputs": [
        {
          "output_type": "stream",
          "name": "stderr",
          "text": [
            "Installing package into ‘/usr/local/lib/R/site-library’\n",
            "(as ‘lib’ is unspecified)\n",
            "\n",
            "also installing the dependencies ‘RApiSerialize’, ‘stringfish’, ‘globals’, ‘listenv’, ‘parallelly’, ‘snakecase’, ‘qs’, ‘Rcpp’, ‘RcppParallel’, ‘fastrmodels’, ‘furrr’, ‘future’, ‘janitor’, ‘nflreadr’, ‘progressr’, ‘xgboost’\n",
            "\n",
            "\n",
            "Installing package into ‘/usr/local/lib/R/site-library’\n",
            "(as ‘lib’ is unspecified)\n",
            "\n",
            "also installing the dependencies ‘gridGraphics’, ‘yulab.utils’, ‘ggfun’, ‘ggplotify’, ‘magick’\n",
            "\n",
            "\n",
            "Warning message in install.packages(\"ggimage\"):\n",
            "“installation of package ‘magick’ had non-zero exit status”\n",
            "Warning message in install.packages(\"ggimage\"):\n",
            "“installation of package ‘ggimage’ had non-zero exit status”\n"
          ]
        }
      ]
    },
    {
      "cell_type": "code",
      "metadata": {
        "id": "dVaSEYE9bO3i"
      },
      "source": [
        "library(nflfastR)\n",
        "\n",
        "library(tidyverse)\n",
        "library(ggplot2)\n",
        "\n",
        "library(imager)\n",
        "library(ggimage)"
      ],
      "execution_count": 3,
      "outputs": []
    },
    {
      "cell_type": "markdown",
      "metadata": {
        "id": "Ykoj0eEZbDn8"
      },
      "source": [
        "Como este pacote permite baixar dados de todas as temporadas, jogada a jogada, desde 1999, faremos um recorte apenas de 2014. A escolha deste ano foi aleatória, mesmo que possa parecer que foi escolhido de forma proposital por ser ultimo ano no qual *Seattle Seahawks* ganhou o *Super Bowl* (que é o jogo final da temporada e define o vencedor do campeonato). Fique a vontade para escolher qualquer outro ano, caso deseje estudar. \n",
        "\n",
        ">Contudo, para este exercício de aprofundamento, **mantenha o ano de 2014**."
      ]
    },
    {
      "cell_type": "code",
      "metadata": {
        "id": "n44dj-LFbDn9"
      },
      "source": [
        "temporada <- load_pbp(2014) #Carregamento dos dados, jogada a jogada, de 2014"
      ],
      "execution_count": 4,
      "outputs": []
    },
    {
      "cell_type": "markdown",
      "metadata": {
        "id": "VGZFbz22bDn-"
      },
      "source": [
        "Repare que para a seleção do subconjunto de dados, foi informado o ano da temporada desejado.\n",
        "\n",
        "Poderiam ser um intervalo de outros anos, para isso, seria necessário definir o valor como **anoInicio:anoFim**, por exemplo: 2014:2018 e neste caso os dados seriam de 2014 até 2018.\n",
        "\n",
        "> temporada <- load_pbp(2014:2018)\n",
        "\n",
        "Repare que este conjunto de dados de pbp (*play-by-play* -- jogada a jogada) possui muitas variáveis. Ao chamar a função *names* colocando o nome do conjunto de dados, são retornadas todas as variáveis. Execute o bloco abaixo e conheça quais são estas variáveis."
      ]
    },
    {
      "cell_type": "code",
      "metadata": {
        "id": "t-AGKeMkbDoA",
        "outputId": "7b26a474-2512-464c-ed8f-b39fe08a146d",
        "colab": {
          "base_uri": "https://localhost:8080/",
          "height": 729
        }
      },
      "source": [
        "names(temporada)"
      ],
      "execution_count": 5,
      "outputs": [
        {
          "output_type": "display_data",
          "data": {
            "text/html": [
              "<style>\n",
              ".list-inline {list-style: none; margin:0; padding: 0}\n",
              ".list-inline>li {display: inline-block}\n",
              ".list-inline>li:not(:last-child)::after {content: \"\\00b7\"; padding: 0 .5ex}\n",
              "</style>\n",
              "<ol class=list-inline><li>'play_id'</li><li>'game_id'</li><li>'old_game_id'</li><li>'home_team'</li><li>'away_team'</li><li>'season_type'</li><li>'week'</li><li>'posteam'</li><li>'posteam_type'</li><li>'defteam'</li><li>'side_of_field'</li><li>'yardline_100'</li><li>'game_date'</li><li>'quarter_seconds_remaining'</li><li>'half_seconds_remaining'</li><li>'game_seconds_remaining'</li><li>'game_half'</li><li>'quarter_end'</li><li>'drive'</li><li>'sp'</li><li>'qtr'</li><li>'down'</li><li>'goal_to_go'</li><li>'time'</li><li>'yrdln'</li><li>'ydstogo'</li><li>'ydsnet'</li><li>'desc'</li><li>'play_type'</li><li>'yards_gained'</li><li>'shotgun'</li><li>'no_huddle'</li><li>'qb_dropback'</li><li>'qb_kneel'</li><li>'qb_spike'</li><li>'qb_scramble'</li><li>'pass_length'</li><li>'pass_location'</li><li>'air_yards'</li><li>'yards_after_catch'</li><li>'run_location'</li><li>'run_gap'</li><li>'field_goal_result'</li><li>'kick_distance'</li><li>'extra_point_result'</li><li>'two_point_conv_result'</li><li>'home_timeouts_remaining'</li><li>'away_timeouts_remaining'</li><li>'timeout'</li><li>'timeout_team'</li><li>'td_team'</li><li>'td_player_name'</li><li>'td_player_id'</li><li>'posteam_timeouts_remaining'</li><li>'defteam_timeouts_remaining'</li><li>'total_home_score'</li><li>'total_away_score'</li><li>'posteam_score'</li><li>'defteam_score'</li><li>'score_differential'</li><li>'posteam_score_post'</li><li>'defteam_score_post'</li><li>'score_differential_post'</li><li>'no_score_prob'</li><li>'opp_fg_prob'</li><li>'opp_safety_prob'</li><li>'opp_td_prob'</li><li>'fg_prob'</li><li>'safety_prob'</li><li>'td_prob'</li><li>'extra_point_prob'</li><li>'two_point_conversion_prob'</li><li>'ep'</li><li>'epa'</li><li>'total_home_epa'</li><li>'total_away_epa'</li><li>'total_home_rush_epa'</li><li>'total_away_rush_epa'</li><li>'total_home_pass_epa'</li><li>'total_away_pass_epa'</li><li>'air_epa'</li><li>'yac_epa'</li><li>'comp_air_epa'</li><li>'comp_yac_epa'</li><li>'total_home_comp_air_epa'</li><li>'total_away_comp_air_epa'</li><li>'total_home_comp_yac_epa'</li><li>'total_away_comp_yac_epa'</li><li>'total_home_raw_air_epa'</li><li>'total_away_raw_air_epa'</li><li>'total_home_raw_yac_epa'</li><li>'total_away_raw_yac_epa'</li><li>'wp'</li><li>'def_wp'</li><li>'home_wp'</li><li>'away_wp'</li><li>'wpa'</li><li>'vegas_wpa'</li><li>'vegas_home_wpa'</li><li>'home_wp_post'</li><li>'away_wp_post'</li><li>'vegas_wp'</li><li>'vegas_home_wp'</li><li>'total_home_rush_wpa'</li><li>'total_away_rush_wpa'</li><li>'total_home_pass_wpa'</li><li>'total_away_pass_wpa'</li><li>'air_wpa'</li><li>'yac_wpa'</li><li>'comp_air_wpa'</li><li>'comp_yac_wpa'</li><li>'total_home_comp_air_wpa'</li><li>'total_away_comp_air_wpa'</li><li>'total_home_comp_yac_wpa'</li><li>'total_away_comp_yac_wpa'</li><li>'total_home_raw_air_wpa'</li><li>'total_away_raw_air_wpa'</li><li>'total_home_raw_yac_wpa'</li><li>'total_away_raw_yac_wpa'</li><li>'punt_blocked'</li><li>'first_down_rush'</li><li>'first_down_pass'</li><li>'first_down_penalty'</li><li>'third_down_converted'</li><li>'third_down_failed'</li><li>'fourth_down_converted'</li><li>'fourth_down_failed'</li><li>'incomplete_pass'</li><li>'touchback'</li><li>'interception'</li><li>'punt_inside_twenty'</li><li>'punt_in_endzone'</li><li>'punt_out_of_bounds'</li><li>'punt_downed'</li><li>'punt_fair_catch'</li><li>'kickoff_inside_twenty'</li><li>'kickoff_in_endzone'</li><li>'kickoff_out_of_bounds'</li><li>'kickoff_downed'</li><li>'kickoff_fair_catch'</li><li>'fumble_forced'</li><li>'fumble_not_forced'</li><li>'fumble_out_of_bounds'</li><li>'solo_tackle'</li><li>'safety'</li><li>'penalty'</li><li>'tackled_for_loss'</li><li>'fumble_lost'</li><li>'own_kickoff_recovery'</li><li>'own_kickoff_recovery_td'</li><li>'qb_hit'</li><li>'rush_attempt'</li><li>'pass_attempt'</li><li>'sack'</li><li>'touchdown'</li><li>'pass_touchdown'</li><li>'rush_touchdown'</li><li>'return_touchdown'</li><li>'extra_point_attempt'</li><li>'two_point_attempt'</li><li>'field_goal_attempt'</li><li>'kickoff_attempt'</li><li>'punt_attempt'</li><li>'fumble'</li><li>'complete_pass'</li><li>'assist_tackle'</li><li>'lateral_reception'</li><li>'lateral_rush'</li><li>'lateral_return'</li><li>'lateral_recovery'</li><li>'passer_player_id'</li><li>'passer_player_name'</li><li>'passing_yards'</li><li>'receiver_player_id'</li><li>'receiver_player_name'</li><li>'receiving_yards'</li><li>'rusher_player_id'</li><li>'rusher_player_name'</li><li>'rushing_yards'</li><li>'lateral_receiver_player_id'</li><li>'lateral_receiver_player_name'</li><li>'lateral_receiving_yards'</li><li>'lateral_rusher_player_id'</li><li>'lateral_rusher_player_name'</li><li>'lateral_rushing_yards'</li><li>'lateral_sack_player_id'</li><li>'lateral_sack_player_name'</li><li>'interception_player_id'</li><li>'interception_player_name'</li><li>'lateral_interception_player_id'</li><li>'lateral_interception_player_name'</li><li>'punt_returner_player_id'</li><li>'punt_returner_player_name'</li><li>'lateral_punt_returner_player_id'</li><li>'lateral_punt_returner_player_name'</li><li>'kickoff_returner_player_name'</li><li>'kickoff_returner_player_id'</li><li>'lateral_kickoff_returner_player_id'</li><li>'lateral_kickoff_returner_player_name'</li><li>'punter_player_id'</li><li>'punter_player_name'</li><li>'kicker_player_name'</li><li>'kicker_player_id'</li><li>'own_kickoff_recovery_player_id'</li><li>'own_kickoff_recovery_player_name'</li><li>'blocked_player_id'</li><li>'blocked_player_name'</li><li>'tackle_for_loss_1_player_id'</li><li>'tackle_for_loss_1_player_name'</li><li>'tackle_for_loss_2_player_id'</li><li>'tackle_for_loss_2_player_name'</li><li>'qb_hit_1_player_id'</li><li>'qb_hit_1_player_name'</li><li>'qb_hit_2_player_id'</li><li>'qb_hit_2_player_name'</li><li>'forced_fumble_player_1_team'</li><li>'forced_fumble_player_1_player_id'</li><li>'forced_fumble_player_1_player_name'</li><li>'forced_fumble_player_2_team'</li><li>'forced_fumble_player_2_player_id'</li><li>'forced_fumble_player_2_player_name'</li><li>'solo_tackle_1_team'</li><li>'solo_tackle_2_team'</li><li>'solo_tackle_1_player_id'</li><li>'solo_tackle_2_player_id'</li><li>'solo_tackle_1_player_name'</li><li>'solo_tackle_2_player_name'</li><li>'assist_tackle_1_player_id'</li><li>'assist_tackle_1_player_name'</li><li>'assist_tackle_1_team'</li><li>'assist_tackle_2_player_id'</li><li>'assist_tackle_2_player_name'</li><li>'assist_tackle_2_team'</li><li>'assist_tackle_3_player_id'</li><li>'assist_tackle_3_player_name'</li><li>'assist_tackle_3_team'</li><li>'assist_tackle_4_player_id'</li><li>'assist_tackle_4_player_name'</li><li>'assist_tackle_4_team'</li><li>'tackle_with_assist'</li><li>'tackle_with_assist_1_player_id'</li><li>'tackle_with_assist_1_player_name'</li><li>'tackle_with_assist_1_team'</li><li>'tackle_with_assist_2_player_id'</li><li>'tackle_with_assist_2_player_name'</li><li>'tackle_with_assist_2_team'</li><li>'pass_defense_1_player_id'</li><li>'pass_defense_1_player_name'</li><li>'pass_defense_2_player_id'</li><li>'pass_defense_2_player_name'</li><li>'fumbled_1_team'</li><li>'fumbled_1_player_id'</li><li>'fumbled_1_player_name'</li><li>'fumbled_2_player_id'</li><li>'fumbled_2_player_name'</li><li>'fumbled_2_team'</li><li>'fumble_recovery_1_team'</li><li>'fumble_recovery_1_yards'</li><li>'fumble_recovery_1_player_id'</li><li>'fumble_recovery_1_player_name'</li><li>'fumble_recovery_2_team'</li><li>'fumble_recovery_2_yards'</li><li>'fumble_recovery_2_player_id'</li><li>'fumble_recovery_2_player_name'</li><li>'sack_player_id'</li><li>'sack_player_name'</li><li>'half_sack_1_player_id'</li><li>'half_sack_1_player_name'</li><li>'half_sack_2_player_id'</li><li>'half_sack_2_player_name'</li><li>'return_team'</li><li>'return_yards'</li><li>'penalty_team'</li><li>'penalty_player_id'</li><li>'penalty_player_name'</li><li>'penalty_yards'</li><li>'replay_or_challenge'</li><li>'replay_or_challenge_result'</li><li>'penalty_type'</li><li>'defensive_two_point_attempt'</li><li>'defensive_two_point_conv'</li><li>'defensive_extra_point_attempt'</li><li>'defensive_extra_point_conv'</li><li>'safety_player_name'</li><li>'safety_player_id'</li><li>'season'</li><li>'cp'</li><li>'cpoe'</li><li>'series'</li><li>'series_success'</li><li>'series_result'</li><li>'order_sequence'</li><li>'start_time'</li><li>'time_of_day'</li><li>'stadium'</li><li>'weather'</li><li>'nfl_api_id'</li><li>'play_clock'</li><li>'play_deleted'</li><li>'play_type_nfl'</li><li>'special_teams_play'</li><li>'st_play_type'</li><li>'end_clock_time'</li><li>'end_yard_line'</li><li>'fixed_drive'</li><li>'fixed_drive_result'</li><li>'drive_real_start_time'</li><li>'drive_play_count'</li><li>'drive_time_of_possession'</li><li>'drive_first_downs'</li><li>'drive_inside20'</li><li>'drive_ended_with_score'</li><li>'drive_quarter_start'</li><li>'drive_quarter_end'</li><li>'drive_yards_penalized'</li><li>'drive_start_transition'</li><li>'drive_end_transition'</li><li>'drive_game_clock_start'</li><li>'drive_game_clock_end'</li><li>'drive_start_yard_line'</li><li>'drive_end_yard_line'</li><li>'drive_play_id_started'</li><li>'drive_play_id_ended'</li><li>'away_score'</li><li>'home_score'</li><li>'location'</li><li>'result'</li><li>'total'</li><li>'spread_line'</li><li>'total_line'</li><li>'div_game'</li><li>'roof'</li><li>'surface'</li><li>'temp'</li><li>'wind'</li><li>'home_coach'</li><li>'away_coach'</li><li>'stadium_id'</li><li>'game_stadium'</li><li>'aborted_play'</li><li>'success'</li><li>'passer'</li><li>'passer_jersey_number'</li><li>'rusher'</li><li>'rusher_jersey_number'</li><li>'receiver'</li><li>'receiver_jersey_number'</li><li>'pass'</li><li>'rush'</li><li>'first_down'</li><li>'special'</li><li>'play'</li><li>'passer_id'</li><li>'rusher_id'</li><li>'receiver_id'</li><li>'name'</li><li>'jersey_number'</li><li>'id'</li><li>'fantasy_player_name'</li><li>'fantasy_player_id'</li><li>'fantasy'</li><li>'fantasy_id'</li><li>'out_of_bounds'</li><li>'home_opening_kickoff'</li><li>'qb_epa'</li><li>'xyac_epa'</li><li>'xyac_mean_yardage'</li><li>'xyac_median_yardage'</li><li>'xyac_success'</li><li>'xyac_fd'</li><li>'xpass'</li><li>'pass_oe'</li></ol>\n"
            ],
            "text/markdown": "1. 'play_id'\n2. 'game_id'\n3. 'old_game_id'\n4. 'home_team'\n5. 'away_team'\n6. 'season_type'\n7. 'week'\n8. 'posteam'\n9. 'posteam_type'\n10. 'defteam'\n11. 'side_of_field'\n12. 'yardline_100'\n13. 'game_date'\n14. 'quarter_seconds_remaining'\n15. 'half_seconds_remaining'\n16. 'game_seconds_remaining'\n17. 'game_half'\n18. 'quarter_end'\n19. 'drive'\n20. 'sp'\n21. 'qtr'\n22. 'down'\n23. 'goal_to_go'\n24. 'time'\n25. 'yrdln'\n26. 'ydstogo'\n27. 'ydsnet'\n28. 'desc'\n29. 'play_type'\n30. 'yards_gained'\n31. 'shotgun'\n32. 'no_huddle'\n33. 'qb_dropback'\n34. 'qb_kneel'\n35. 'qb_spike'\n36. 'qb_scramble'\n37. 'pass_length'\n38. 'pass_location'\n39. 'air_yards'\n40. 'yards_after_catch'\n41. 'run_location'\n42. 'run_gap'\n43. 'field_goal_result'\n44. 'kick_distance'\n45. 'extra_point_result'\n46. 'two_point_conv_result'\n47. 'home_timeouts_remaining'\n48. 'away_timeouts_remaining'\n49. 'timeout'\n50. 'timeout_team'\n51. 'td_team'\n52. 'td_player_name'\n53. 'td_player_id'\n54. 'posteam_timeouts_remaining'\n55. 'defteam_timeouts_remaining'\n56. 'total_home_score'\n57. 'total_away_score'\n58. 'posteam_score'\n59. 'defteam_score'\n60. 'score_differential'\n61. 'posteam_score_post'\n62. 'defteam_score_post'\n63. 'score_differential_post'\n64. 'no_score_prob'\n65. 'opp_fg_prob'\n66. 'opp_safety_prob'\n67. 'opp_td_prob'\n68. 'fg_prob'\n69. 'safety_prob'\n70. 'td_prob'\n71. 'extra_point_prob'\n72. 'two_point_conversion_prob'\n73. 'ep'\n74. 'epa'\n75. 'total_home_epa'\n76. 'total_away_epa'\n77. 'total_home_rush_epa'\n78. 'total_away_rush_epa'\n79. 'total_home_pass_epa'\n80. 'total_away_pass_epa'\n81. 'air_epa'\n82. 'yac_epa'\n83. 'comp_air_epa'\n84. 'comp_yac_epa'\n85. 'total_home_comp_air_epa'\n86. 'total_away_comp_air_epa'\n87. 'total_home_comp_yac_epa'\n88. 'total_away_comp_yac_epa'\n89. 'total_home_raw_air_epa'\n90. 'total_away_raw_air_epa'\n91. 'total_home_raw_yac_epa'\n92. 'total_away_raw_yac_epa'\n93. 'wp'\n94. 'def_wp'\n95. 'home_wp'\n96. 'away_wp'\n97. 'wpa'\n98. 'vegas_wpa'\n99. 'vegas_home_wpa'\n100. 'home_wp_post'\n101. 'away_wp_post'\n102. 'vegas_wp'\n103. 'vegas_home_wp'\n104. 'total_home_rush_wpa'\n105. 'total_away_rush_wpa'\n106. 'total_home_pass_wpa'\n107. 'total_away_pass_wpa'\n108. 'air_wpa'\n109. 'yac_wpa'\n110. 'comp_air_wpa'\n111. 'comp_yac_wpa'\n112. 'total_home_comp_air_wpa'\n113. 'total_away_comp_air_wpa'\n114. 'total_home_comp_yac_wpa'\n115. 'total_away_comp_yac_wpa'\n116. 'total_home_raw_air_wpa'\n117. 'total_away_raw_air_wpa'\n118. 'total_home_raw_yac_wpa'\n119. 'total_away_raw_yac_wpa'\n120. 'punt_blocked'\n121. 'first_down_rush'\n122. 'first_down_pass'\n123. 'first_down_penalty'\n124. 'third_down_converted'\n125. 'third_down_failed'\n126. 'fourth_down_converted'\n127. 'fourth_down_failed'\n128. 'incomplete_pass'\n129. 'touchback'\n130. 'interception'\n131. 'punt_inside_twenty'\n132. 'punt_in_endzone'\n133. 'punt_out_of_bounds'\n134. 'punt_downed'\n135. 'punt_fair_catch'\n136. 'kickoff_inside_twenty'\n137. 'kickoff_in_endzone'\n138. 'kickoff_out_of_bounds'\n139. 'kickoff_downed'\n140. 'kickoff_fair_catch'\n141. 'fumble_forced'\n142. 'fumble_not_forced'\n143. 'fumble_out_of_bounds'\n144. 'solo_tackle'\n145. 'safety'\n146. 'penalty'\n147. 'tackled_for_loss'\n148. 'fumble_lost'\n149. 'own_kickoff_recovery'\n150. 'own_kickoff_recovery_td'\n151. 'qb_hit'\n152. 'rush_attempt'\n153. 'pass_attempt'\n154. 'sack'\n155. 'touchdown'\n156. 'pass_touchdown'\n157. 'rush_touchdown'\n158. 'return_touchdown'\n159. 'extra_point_attempt'\n160. 'two_point_attempt'\n161. 'field_goal_attempt'\n162. 'kickoff_attempt'\n163. 'punt_attempt'\n164. 'fumble'\n165. 'complete_pass'\n166. 'assist_tackle'\n167. 'lateral_reception'\n168. 'lateral_rush'\n169. 'lateral_return'\n170. 'lateral_recovery'\n171. 'passer_player_id'\n172. 'passer_player_name'\n173. 'passing_yards'\n174. 'receiver_player_id'\n175. 'receiver_player_name'\n176. 'receiving_yards'\n177. 'rusher_player_id'\n178. 'rusher_player_name'\n179. 'rushing_yards'\n180. 'lateral_receiver_player_id'\n181. 'lateral_receiver_player_name'\n182. 'lateral_receiving_yards'\n183. 'lateral_rusher_player_id'\n184. 'lateral_rusher_player_name'\n185. 'lateral_rushing_yards'\n186. 'lateral_sack_player_id'\n187. 'lateral_sack_player_name'\n188. 'interception_player_id'\n189. 'interception_player_name'\n190. 'lateral_interception_player_id'\n191. 'lateral_interception_player_name'\n192. 'punt_returner_player_id'\n193. 'punt_returner_player_name'\n194. 'lateral_punt_returner_player_id'\n195. 'lateral_punt_returner_player_name'\n196. 'kickoff_returner_player_name'\n197. 'kickoff_returner_player_id'\n198. 'lateral_kickoff_returner_player_id'\n199. 'lateral_kickoff_returner_player_name'\n200. 'punter_player_id'\n201. 'punter_player_name'\n202. 'kicker_player_name'\n203. 'kicker_player_id'\n204. 'own_kickoff_recovery_player_id'\n205. 'own_kickoff_recovery_player_name'\n206. 'blocked_player_id'\n207. 'blocked_player_name'\n208. 'tackle_for_loss_1_player_id'\n209. 'tackle_for_loss_1_player_name'\n210. 'tackle_for_loss_2_player_id'\n211. 'tackle_for_loss_2_player_name'\n212. 'qb_hit_1_player_id'\n213. 'qb_hit_1_player_name'\n214. 'qb_hit_2_player_id'\n215. 'qb_hit_2_player_name'\n216. 'forced_fumble_player_1_team'\n217. 'forced_fumble_player_1_player_id'\n218. 'forced_fumble_player_1_player_name'\n219. 'forced_fumble_player_2_team'\n220. 'forced_fumble_player_2_player_id'\n221. 'forced_fumble_player_2_player_name'\n222. 'solo_tackle_1_team'\n223. 'solo_tackle_2_team'\n224. 'solo_tackle_1_player_id'\n225. 'solo_tackle_2_player_id'\n226. 'solo_tackle_1_player_name'\n227. 'solo_tackle_2_player_name'\n228. 'assist_tackle_1_player_id'\n229. 'assist_tackle_1_player_name'\n230. 'assist_tackle_1_team'\n231. 'assist_tackle_2_player_id'\n232. 'assist_tackle_2_player_name'\n233. 'assist_tackle_2_team'\n234. 'assist_tackle_3_player_id'\n235. 'assist_tackle_3_player_name'\n236. 'assist_tackle_3_team'\n237. 'assist_tackle_4_player_id'\n238. 'assist_tackle_4_player_name'\n239. 'assist_tackle_4_team'\n240. 'tackle_with_assist'\n241. 'tackle_with_assist_1_player_id'\n242. 'tackle_with_assist_1_player_name'\n243. 'tackle_with_assist_1_team'\n244. 'tackle_with_assist_2_player_id'\n245. 'tackle_with_assist_2_player_name'\n246. 'tackle_with_assist_2_team'\n247. 'pass_defense_1_player_id'\n248. 'pass_defense_1_player_name'\n249. 'pass_defense_2_player_id'\n250. 'pass_defense_2_player_name'\n251. 'fumbled_1_team'\n252. 'fumbled_1_player_id'\n253. 'fumbled_1_player_name'\n254. 'fumbled_2_player_id'\n255. 'fumbled_2_player_name'\n256. 'fumbled_2_team'\n257. 'fumble_recovery_1_team'\n258. 'fumble_recovery_1_yards'\n259. 'fumble_recovery_1_player_id'\n260. 'fumble_recovery_1_player_name'\n261. 'fumble_recovery_2_team'\n262. 'fumble_recovery_2_yards'\n263. 'fumble_recovery_2_player_id'\n264. 'fumble_recovery_2_player_name'\n265. 'sack_player_id'\n266. 'sack_player_name'\n267. 'half_sack_1_player_id'\n268. 'half_sack_1_player_name'\n269. 'half_sack_2_player_id'\n270. 'half_sack_2_player_name'\n271. 'return_team'\n272. 'return_yards'\n273. 'penalty_team'\n274. 'penalty_player_id'\n275. 'penalty_player_name'\n276. 'penalty_yards'\n277. 'replay_or_challenge'\n278. 'replay_or_challenge_result'\n279. 'penalty_type'\n280. 'defensive_two_point_attempt'\n281. 'defensive_two_point_conv'\n282. 'defensive_extra_point_attempt'\n283. 'defensive_extra_point_conv'\n284. 'safety_player_name'\n285. 'safety_player_id'\n286. 'season'\n287. 'cp'\n288. 'cpoe'\n289. 'series'\n290. 'series_success'\n291. 'series_result'\n292. 'order_sequence'\n293. 'start_time'\n294. 'time_of_day'\n295. 'stadium'\n296. 'weather'\n297. 'nfl_api_id'\n298. 'play_clock'\n299. 'play_deleted'\n300. 'play_type_nfl'\n301. 'special_teams_play'\n302. 'st_play_type'\n303. 'end_clock_time'\n304. 'end_yard_line'\n305. 'fixed_drive'\n306. 'fixed_drive_result'\n307. 'drive_real_start_time'\n308. 'drive_play_count'\n309. 'drive_time_of_possession'\n310. 'drive_first_downs'\n311. 'drive_inside20'\n312. 'drive_ended_with_score'\n313. 'drive_quarter_start'\n314. 'drive_quarter_end'\n315. 'drive_yards_penalized'\n316. 'drive_start_transition'\n317. 'drive_end_transition'\n318. 'drive_game_clock_start'\n319. 'drive_game_clock_end'\n320. 'drive_start_yard_line'\n321. 'drive_end_yard_line'\n322. 'drive_play_id_started'\n323. 'drive_play_id_ended'\n324. 'away_score'\n325. 'home_score'\n326. 'location'\n327. 'result'\n328. 'total'\n329. 'spread_line'\n330. 'total_line'\n331. 'div_game'\n332. 'roof'\n333. 'surface'\n334. 'temp'\n335. 'wind'\n336. 'home_coach'\n337. 'away_coach'\n338. 'stadium_id'\n339. 'game_stadium'\n340. 'aborted_play'\n341. 'success'\n342. 'passer'\n343. 'passer_jersey_number'\n344. 'rusher'\n345. 'rusher_jersey_number'\n346. 'receiver'\n347. 'receiver_jersey_number'\n348. 'pass'\n349. 'rush'\n350. 'first_down'\n351. 'special'\n352. 'play'\n353. 'passer_id'\n354. 'rusher_id'\n355. 'receiver_id'\n356. 'name'\n357. 'jersey_number'\n358. 'id'\n359. 'fantasy_player_name'\n360. 'fantasy_player_id'\n361. 'fantasy'\n362. 'fantasy_id'\n363. 'out_of_bounds'\n364. 'home_opening_kickoff'\n365. 'qb_epa'\n366. 'xyac_epa'\n367. 'xyac_mean_yardage'\n368. 'xyac_median_yardage'\n369. 'xyac_success'\n370. 'xyac_fd'\n371. 'xpass'\n372. 'pass_oe'\n\n\n",
            "text/latex": "\\begin{enumerate*}\n\\item 'play\\_id'\n\\item 'game\\_id'\n\\item 'old\\_game\\_id'\n\\item 'home\\_team'\n\\item 'away\\_team'\n\\item 'season\\_type'\n\\item 'week'\n\\item 'posteam'\n\\item 'posteam\\_type'\n\\item 'defteam'\n\\item 'side\\_of\\_field'\n\\item 'yardline\\_100'\n\\item 'game\\_date'\n\\item 'quarter\\_seconds\\_remaining'\n\\item 'half\\_seconds\\_remaining'\n\\item 'game\\_seconds\\_remaining'\n\\item 'game\\_half'\n\\item 'quarter\\_end'\n\\item 'drive'\n\\item 'sp'\n\\item 'qtr'\n\\item 'down'\n\\item 'goal\\_to\\_go'\n\\item 'time'\n\\item 'yrdln'\n\\item 'ydstogo'\n\\item 'ydsnet'\n\\item 'desc'\n\\item 'play\\_type'\n\\item 'yards\\_gained'\n\\item 'shotgun'\n\\item 'no\\_huddle'\n\\item 'qb\\_dropback'\n\\item 'qb\\_kneel'\n\\item 'qb\\_spike'\n\\item 'qb\\_scramble'\n\\item 'pass\\_length'\n\\item 'pass\\_location'\n\\item 'air\\_yards'\n\\item 'yards\\_after\\_catch'\n\\item 'run\\_location'\n\\item 'run\\_gap'\n\\item 'field\\_goal\\_result'\n\\item 'kick\\_distance'\n\\item 'extra\\_point\\_result'\n\\item 'two\\_point\\_conv\\_result'\n\\item 'home\\_timeouts\\_remaining'\n\\item 'away\\_timeouts\\_remaining'\n\\item 'timeout'\n\\item 'timeout\\_team'\n\\item 'td\\_team'\n\\item 'td\\_player\\_name'\n\\item 'td\\_player\\_id'\n\\item 'posteam\\_timeouts\\_remaining'\n\\item 'defteam\\_timeouts\\_remaining'\n\\item 'total\\_home\\_score'\n\\item 'total\\_away\\_score'\n\\item 'posteam\\_score'\n\\item 'defteam\\_score'\n\\item 'score\\_differential'\n\\item 'posteam\\_score\\_post'\n\\item 'defteam\\_score\\_post'\n\\item 'score\\_differential\\_post'\n\\item 'no\\_score\\_prob'\n\\item 'opp\\_fg\\_prob'\n\\item 'opp\\_safety\\_prob'\n\\item 'opp\\_td\\_prob'\n\\item 'fg\\_prob'\n\\item 'safety\\_prob'\n\\item 'td\\_prob'\n\\item 'extra\\_point\\_prob'\n\\item 'two\\_point\\_conversion\\_prob'\n\\item 'ep'\n\\item 'epa'\n\\item 'total\\_home\\_epa'\n\\item 'total\\_away\\_epa'\n\\item 'total\\_home\\_rush\\_epa'\n\\item 'total\\_away\\_rush\\_epa'\n\\item 'total\\_home\\_pass\\_epa'\n\\item 'total\\_away\\_pass\\_epa'\n\\item 'air\\_epa'\n\\item 'yac\\_epa'\n\\item 'comp\\_air\\_epa'\n\\item 'comp\\_yac\\_epa'\n\\item 'total\\_home\\_comp\\_air\\_epa'\n\\item 'total\\_away\\_comp\\_air\\_epa'\n\\item 'total\\_home\\_comp\\_yac\\_epa'\n\\item 'total\\_away\\_comp\\_yac\\_epa'\n\\item 'total\\_home\\_raw\\_air\\_epa'\n\\item 'total\\_away\\_raw\\_air\\_epa'\n\\item 'total\\_home\\_raw\\_yac\\_epa'\n\\item 'total\\_away\\_raw\\_yac\\_epa'\n\\item 'wp'\n\\item 'def\\_wp'\n\\item 'home\\_wp'\n\\item 'away\\_wp'\n\\item 'wpa'\n\\item 'vegas\\_wpa'\n\\item 'vegas\\_home\\_wpa'\n\\item 'home\\_wp\\_post'\n\\item 'away\\_wp\\_post'\n\\item 'vegas\\_wp'\n\\item 'vegas\\_home\\_wp'\n\\item 'total\\_home\\_rush\\_wpa'\n\\item 'total\\_away\\_rush\\_wpa'\n\\item 'total\\_home\\_pass\\_wpa'\n\\item 'total\\_away\\_pass\\_wpa'\n\\item 'air\\_wpa'\n\\item 'yac\\_wpa'\n\\item 'comp\\_air\\_wpa'\n\\item 'comp\\_yac\\_wpa'\n\\item 'total\\_home\\_comp\\_air\\_wpa'\n\\item 'total\\_away\\_comp\\_air\\_wpa'\n\\item 'total\\_home\\_comp\\_yac\\_wpa'\n\\item 'total\\_away\\_comp\\_yac\\_wpa'\n\\item 'total\\_home\\_raw\\_air\\_wpa'\n\\item 'total\\_away\\_raw\\_air\\_wpa'\n\\item 'total\\_home\\_raw\\_yac\\_wpa'\n\\item 'total\\_away\\_raw\\_yac\\_wpa'\n\\item 'punt\\_blocked'\n\\item 'first\\_down\\_rush'\n\\item 'first\\_down\\_pass'\n\\item 'first\\_down\\_penalty'\n\\item 'third\\_down\\_converted'\n\\item 'third\\_down\\_failed'\n\\item 'fourth\\_down\\_converted'\n\\item 'fourth\\_down\\_failed'\n\\item 'incomplete\\_pass'\n\\item 'touchback'\n\\item 'interception'\n\\item 'punt\\_inside\\_twenty'\n\\item 'punt\\_in\\_endzone'\n\\item 'punt\\_out\\_of\\_bounds'\n\\item 'punt\\_downed'\n\\item 'punt\\_fair\\_catch'\n\\item 'kickoff\\_inside\\_twenty'\n\\item 'kickoff\\_in\\_endzone'\n\\item 'kickoff\\_out\\_of\\_bounds'\n\\item 'kickoff\\_downed'\n\\item 'kickoff\\_fair\\_catch'\n\\item 'fumble\\_forced'\n\\item 'fumble\\_not\\_forced'\n\\item 'fumble\\_out\\_of\\_bounds'\n\\item 'solo\\_tackle'\n\\item 'safety'\n\\item 'penalty'\n\\item 'tackled\\_for\\_loss'\n\\item 'fumble\\_lost'\n\\item 'own\\_kickoff\\_recovery'\n\\item 'own\\_kickoff\\_recovery\\_td'\n\\item 'qb\\_hit'\n\\item 'rush\\_attempt'\n\\item 'pass\\_attempt'\n\\item 'sack'\n\\item 'touchdown'\n\\item 'pass\\_touchdown'\n\\item 'rush\\_touchdown'\n\\item 'return\\_touchdown'\n\\item 'extra\\_point\\_attempt'\n\\item 'two\\_point\\_attempt'\n\\item 'field\\_goal\\_attempt'\n\\item 'kickoff\\_attempt'\n\\item 'punt\\_attempt'\n\\item 'fumble'\n\\item 'complete\\_pass'\n\\item 'assist\\_tackle'\n\\item 'lateral\\_reception'\n\\item 'lateral\\_rush'\n\\item 'lateral\\_return'\n\\item 'lateral\\_recovery'\n\\item 'passer\\_player\\_id'\n\\item 'passer\\_player\\_name'\n\\item 'passing\\_yards'\n\\item 'receiver\\_player\\_id'\n\\item 'receiver\\_player\\_name'\n\\item 'receiving\\_yards'\n\\item 'rusher\\_player\\_id'\n\\item 'rusher\\_player\\_name'\n\\item 'rushing\\_yards'\n\\item 'lateral\\_receiver\\_player\\_id'\n\\item 'lateral\\_receiver\\_player\\_name'\n\\item 'lateral\\_receiving\\_yards'\n\\item 'lateral\\_rusher\\_player\\_id'\n\\item 'lateral\\_rusher\\_player\\_name'\n\\item 'lateral\\_rushing\\_yards'\n\\item 'lateral\\_sack\\_player\\_id'\n\\item 'lateral\\_sack\\_player\\_name'\n\\item 'interception\\_player\\_id'\n\\item 'interception\\_player\\_name'\n\\item 'lateral\\_interception\\_player\\_id'\n\\item 'lateral\\_interception\\_player\\_name'\n\\item 'punt\\_returner\\_player\\_id'\n\\item 'punt\\_returner\\_player\\_name'\n\\item 'lateral\\_punt\\_returner\\_player\\_id'\n\\item 'lateral\\_punt\\_returner\\_player\\_name'\n\\item 'kickoff\\_returner\\_player\\_name'\n\\item 'kickoff\\_returner\\_player\\_id'\n\\item 'lateral\\_kickoff\\_returner\\_player\\_id'\n\\item 'lateral\\_kickoff\\_returner\\_player\\_name'\n\\item 'punter\\_player\\_id'\n\\item 'punter\\_player\\_name'\n\\item 'kicker\\_player\\_name'\n\\item 'kicker\\_player\\_id'\n\\item 'own\\_kickoff\\_recovery\\_player\\_id'\n\\item 'own\\_kickoff\\_recovery\\_player\\_name'\n\\item 'blocked\\_player\\_id'\n\\item 'blocked\\_player\\_name'\n\\item 'tackle\\_for\\_loss\\_1\\_player\\_id'\n\\item 'tackle\\_for\\_loss\\_1\\_player\\_name'\n\\item 'tackle\\_for\\_loss\\_2\\_player\\_id'\n\\item 'tackle\\_for\\_loss\\_2\\_player\\_name'\n\\item 'qb\\_hit\\_1\\_player\\_id'\n\\item 'qb\\_hit\\_1\\_player\\_name'\n\\item 'qb\\_hit\\_2\\_player\\_id'\n\\item 'qb\\_hit\\_2\\_player\\_name'\n\\item 'forced\\_fumble\\_player\\_1\\_team'\n\\item 'forced\\_fumble\\_player\\_1\\_player\\_id'\n\\item 'forced\\_fumble\\_player\\_1\\_player\\_name'\n\\item 'forced\\_fumble\\_player\\_2\\_team'\n\\item 'forced\\_fumble\\_player\\_2\\_player\\_id'\n\\item 'forced\\_fumble\\_player\\_2\\_player\\_name'\n\\item 'solo\\_tackle\\_1\\_team'\n\\item 'solo\\_tackle\\_2\\_team'\n\\item 'solo\\_tackle\\_1\\_player\\_id'\n\\item 'solo\\_tackle\\_2\\_player\\_id'\n\\item 'solo\\_tackle\\_1\\_player\\_name'\n\\item 'solo\\_tackle\\_2\\_player\\_name'\n\\item 'assist\\_tackle\\_1\\_player\\_id'\n\\item 'assist\\_tackle\\_1\\_player\\_name'\n\\item 'assist\\_tackle\\_1\\_team'\n\\item 'assist\\_tackle\\_2\\_player\\_id'\n\\item 'assist\\_tackle\\_2\\_player\\_name'\n\\item 'assist\\_tackle\\_2\\_team'\n\\item 'assist\\_tackle\\_3\\_player\\_id'\n\\item 'assist\\_tackle\\_3\\_player\\_name'\n\\item 'assist\\_tackle\\_3\\_team'\n\\item 'assist\\_tackle\\_4\\_player\\_id'\n\\item 'assist\\_tackle\\_4\\_player\\_name'\n\\item 'assist\\_tackle\\_4\\_team'\n\\item 'tackle\\_with\\_assist'\n\\item 'tackle\\_with\\_assist\\_1\\_player\\_id'\n\\item 'tackle\\_with\\_assist\\_1\\_player\\_name'\n\\item 'tackle\\_with\\_assist\\_1\\_team'\n\\item 'tackle\\_with\\_assist\\_2\\_player\\_id'\n\\item 'tackle\\_with\\_assist\\_2\\_player\\_name'\n\\item 'tackle\\_with\\_assist\\_2\\_team'\n\\item 'pass\\_defense\\_1\\_player\\_id'\n\\item 'pass\\_defense\\_1\\_player\\_name'\n\\item 'pass\\_defense\\_2\\_player\\_id'\n\\item 'pass\\_defense\\_2\\_player\\_name'\n\\item 'fumbled\\_1\\_team'\n\\item 'fumbled\\_1\\_player\\_id'\n\\item 'fumbled\\_1\\_player\\_name'\n\\item 'fumbled\\_2\\_player\\_id'\n\\item 'fumbled\\_2\\_player\\_name'\n\\item 'fumbled\\_2\\_team'\n\\item 'fumble\\_recovery\\_1\\_team'\n\\item 'fumble\\_recovery\\_1\\_yards'\n\\item 'fumble\\_recovery\\_1\\_player\\_id'\n\\item 'fumble\\_recovery\\_1\\_player\\_name'\n\\item 'fumble\\_recovery\\_2\\_team'\n\\item 'fumble\\_recovery\\_2\\_yards'\n\\item 'fumble\\_recovery\\_2\\_player\\_id'\n\\item 'fumble\\_recovery\\_2\\_player\\_name'\n\\item 'sack\\_player\\_id'\n\\item 'sack\\_player\\_name'\n\\item 'half\\_sack\\_1\\_player\\_id'\n\\item 'half\\_sack\\_1\\_player\\_name'\n\\item 'half\\_sack\\_2\\_player\\_id'\n\\item 'half\\_sack\\_2\\_player\\_name'\n\\item 'return\\_team'\n\\item 'return\\_yards'\n\\item 'penalty\\_team'\n\\item 'penalty\\_player\\_id'\n\\item 'penalty\\_player\\_name'\n\\item 'penalty\\_yards'\n\\item 'replay\\_or\\_challenge'\n\\item 'replay\\_or\\_challenge\\_result'\n\\item 'penalty\\_type'\n\\item 'defensive\\_two\\_point\\_attempt'\n\\item 'defensive\\_two\\_point\\_conv'\n\\item 'defensive\\_extra\\_point\\_attempt'\n\\item 'defensive\\_extra\\_point\\_conv'\n\\item 'safety\\_player\\_name'\n\\item 'safety\\_player\\_id'\n\\item 'season'\n\\item 'cp'\n\\item 'cpoe'\n\\item 'series'\n\\item 'series\\_success'\n\\item 'series\\_result'\n\\item 'order\\_sequence'\n\\item 'start\\_time'\n\\item 'time\\_of\\_day'\n\\item 'stadium'\n\\item 'weather'\n\\item 'nfl\\_api\\_id'\n\\item 'play\\_clock'\n\\item 'play\\_deleted'\n\\item 'play\\_type\\_nfl'\n\\item 'special\\_teams\\_play'\n\\item 'st\\_play\\_type'\n\\item 'end\\_clock\\_time'\n\\item 'end\\_yard\\_line'\n\\item 'fixed\\_drive'\n\\item 'fixed\\_drive\\_result'\n\\item 'drive\\_real\\_start\\_time'\n\\item 'drive\\_play\\_count'\n\\item 'drive\\_time\\_of\\_possession'\n\\item 'drive\\_first\\_downs'\n\\item 'drive\\_inside20'\n\\item 'drive\\_ended\\_with\\_score'\n\\item 'drive\\_quarter\\_start'\n\\item 'drive\\_quarter\\_end'\n\\item 'drive\\_yards\\_penalized'\n\\item 'drive\\_start\\_transition'\n\\item 'drive\\_end\\_transition'\n\\item 'drive\\_game\\_clock\\_start'\n\\item 'drive\\_game\\_clock\\_end'\n\\item 'drive\\_start\\_yard\\_line'\n\\item 'drive\\_end\\_yard\\_line'\n\\item 'drive\\_play\\_id\\_started'\n\\item 'drive\\_play\\_id\\_ended'\n\\item 'away\\_score'\n\\item 'home\\_score'\n\\item 'location'\n\\item 'result'\n\\item 'total'\n\\item 'spread\\_line'\n\\item 'total\\_line'\n\\item 'div\\_game'\n\\item 'roof'\n\\item 'surface'\n\\item 'temp'\n\\item 'wind'\n\\item 'home\\_coach'\n\\item 'away\\_coach'\n\\item 'stadium\\_id'\n\\item 'game\\_stadium'\n\\item 'aborted\\_play'\n\\item 'success'\n\\item 'passer'\n\\item 'passer\\_jersey\\_number'\n\\item 'rusher'\n\\item 'rusher\\_jersey\\_number'\n\\item 'receiver'\n\\item 'receiver\\_jersey\\_number'\n\\item 'pass'\n\\item 'rush'\n\\item 'first\\_down'\n\\item 'special'\n\\item 'play'\n\\item 'passer\\_id'\n\\item 'rusher\\_id'\n\\item 'receiver\\_id'\n\\item 'name'\n\\item 'jersey\\_number'\n\\item 'id'\n\\item 'fantasy\\_player\\_name'\n\\item 'fantasy\\_player\\_id'\n\\item 'fantasy'\n\\item 'fantasy\\_id'\n\\item 'out\\_of\\_bounds'\n\\item 'home\\_opening\\_kickoff'\n\\item 'qb\\_epa'\n\\item 'xyac\\_epa'\n\\item 'xyac\\_mean\\_yardage'\n\\item 'xyac\\_median\\_yardage'\n\\item 'xyac\\_success'\n\\item 'xyac\\_fd'\n\\item 'xpass'\n\\item 'pass\\_oe'\n\\end{enumerate*}\n",
            "text/plain": [
              "  [1] \"play_id\"                             \n",
              "  [2] \"game_id\"                             \n",
              "  [3] \"old_game_id\"                         \n",
              "  [4] \"home_team\"                           \n",
              "  [5] \"away_team\"                           \n",
              "  [6] \"season_type\"                         \n",
              "  [7] \"week\"                                \n",
              "  [8] \"posteam\"                             \n",
              "  [9] \"posteam_type\"                        \n",
              " [10] \"defteam\"                             \n",
              " [11] \"side_of_field\"                       \n",
              " [12] \"yardline_100\"                        \n",
              " [13] \"game_date\"                           \n",
              " [14] \"quarter_seconds_remaining\"           \n",
              " [15] \"half_seconds_remaining\"              \n",
              " [16] \"game_seconds_remaining\"              \n",
              " [17] \"game_half\"                           \n",
              " [18] \"quarter_end\"                         \n",
              " [19] \"drive\"                               \n",
              " [20] \"sp\"                                  \n",
              " [21] \"qtr\"                                 \n",
              " [22] \"down\"                                \n",
              " [23] \"goal_to_go\"                          \n",
              " [24] \"time\"                                \n",
              " [25] \"yrdln\"                               \n",
              " [26] \"ydstogo\"                             \n",
              " [27] \"ydsnet\"                              \n",
              " [28] \"desc\"                                \n",
              " [29] \"play_type\"                           \n",
              " [30] \"yards_gained\"                        \n",
              " [31] \"shotgun\"                             \n",
              " [32] \"no_huddle\"                           \n",
              " [33] \"qb_dropback\"                         \n",
              " [34] \"qb_kneel\"                            \n",
              " [35] \"qb_spike\"                            \n",
              " [36] \"qb_scramble\"                         \n",
              " [37] \"pass_length\"                         \n",
              " [38] \"pass_location\"                       \n",
              " [39] \"air_yards\"                           \n",
              " [40] \"yards_after_catch\"                   \n",
              " [41] \"run_location\"                        \n",
              " [42] \"run_gap\"                             \n",
              " [43] \"field_goal_result\"                   \n",
              " [44] \"kick_distance\"                       \n",
              " [45] \"extra_point_result\"                  \n",
              " [46] \"two_point_conv_result\"               \n",
              " [47] \"home_timeouts_remaining\"             \n",
              " [48] \"away_timeouts_remaining\"             \n",
              " [49] \"timeout\"                             \n",
              " [50] \"timeout_team\"                        \n",
              " [51] \"td_team\"                             \n",
              " [52] \"td_player_name\"                      \n",
              " [53] \"td_player_id\"                        \n",
              " [54] \"posteam_timeouts_remaining\"          \n",
              " [55] \"defteam_timeouts_remaining\"          \n",
              " [56] \"total_home_score\"                    \n",
              " [57] \"total_away_score\"                    \n",
              " [58] \"posteam_score\"                       \n",
              " [59] \"defteam_score\"                       \n",
              " [60] \"score_differential\"                  \n",
              " [61] \"posteam_score_post\"                  \n",
              " [62] \"defteam_score_post\"                  \n",
              " [63] \"score_differential_post\"             \n",
              " [64] \"no_score_prob\"                       \n",
              " [65] \"opp_fg_prob\"                         \n",
              " [66] \"opp_safety_prob\"                     \n",
              " [67] \"opp_td_prob\"                         \n",
              " [68] \"fg_prob\"                             \n",
              " [69] \"safety_prob\"                         \n",
              " [70] \"td_prob\"                             \n",
              " [71] \"extra_point_prob\"                    \n",
              " [72] \"two_point_conversion_prob\"           \n",
              " [73] \"ep\"                                  \n",
              " [74] \"epa\"                                 \n",
              " [75] \"total_home_epa\"                      \n",
              " [76] \"total_away_epa\"                      \n",
              " [77] \"total_home_rush_epa\"                 \n",
              " [78] \"total_away_rush_epa\"                 \n",
              " [79] \"total_home_pass_epa\"                 \n",
              " [80] \"total_away_pass_epa\"                 \n",
              " [81] \"air_epa\"                             \n",
              " [82] \"yac_epa\"                             \n",
              " [83] \"comp_air_epa\"                        \n",
              " [84] \"comp_yac_epa\"                        \n",
              " [85] \"total_home_comp_air_epa\"             \n",
              " [86] \"total_away_comp_air_epa\"             \n",
              " [87] \"total_home_comp_yac_epa\"             \n",
              " [88] \"total_away_comp_yac_epa\"             \n",
              " [89] \"total_home_raw_air_epa\"              \n",
              " [90] \"total_away_raw_air_epa\"              \n",
              " [91] \"total_home_raw_yac_epa\"              \n",
              " [92] \"total_away_raw_yac_epa\"              \n",
              " [93] \"wp\"                                  \n",
              " [94] \"def_wp\"                              \n",
              " [95] \"home_wp\"                             \n",
              " [96] \"away_wp\"                             \n",
              " [97] \"wpa\"                                 \n",
              " [98] \"vegas_wpa\"                           \n",
              " [99] \"vegas_home_wpa\"                      \n",
              "[100] \"home_wp_post\"                        \n",
              "[101] \"away_wp_post\"                        \n",
              "[102] \"vegas_wp\"                            \n",
              "[103] \"vegas_home_wp\"                       \n",
              "[104] \"total_home_rush_wpa\"                 \n",
              "[105] \"total_away_rush_wpa\"                 \n",
              "[106] \"total_home_pass_wpa\"                 \n",
              "[107] \"total_away_pass_wpa\"                 \n",
              "[108] \"air_wpa\"                             \n",
              "[109] \"yac_wpa\"                             \n",
              "[110] \"comp_air_wpa\"                        \n",
              "[111] \"comp_yac_wpa\"                        \n",
              "[112] \"total_home_comp_air_wpa\"             \n",
              "[113] \"total_away_comp_air_wpa\"             \n",
              "[114] \"total_home_comp_yac_wpa\"             \n",
              "[115] \"total_away_comp_yac_wpa\"             \n",
              "[116] \"total_home_raw_air_wpa\"              \n",
              "[117] \"total_away_raw_air_wpa\"              \n",
              "[118] \"total_home_raw_yac_wpa\"              \n",
              "[119] \"total_away_raw_yac_wpa\"              \n",
              "[120] \"punt_blocked\"                        \n",
              "[121] \"first_down_rush\"                     \n",
              "[122] \"first_down_pass\"                     \n",
              "[123] \"first_down_penalty\"                  \n",
              "[124] \"third_down_converted\"                \n",
              "[125] \"third_down_failed\"                   \n",
              "[126] \"fourth_down_converted\"               \n",
              "[127] \"fourth_down_failed\"                  \n",
              "[128] \"incomplete_pass\"                     \n",
              "[129] \"touchback\"                           \n",
              "[130] \"interception\"                        \n",
              "[131] \"punt_inside_twenty\"                  \n",
              "[132] \"punt_in_endzone\"                     \n",
              "[133] \"punt_out_of_bounds\"                  \n",
              "[134] \"punt_downed\"                         \n",
              "[135] \"punt_fair_catch\"                     \n",
              "[136] \"kickoff_inside_twenty\"               \n",
              "[137] \"kickoff_in_endzone\"                  \n",
              "[138] \"kickoff_out_of_bounds\"               \n",
              "[139] \"kickoff_downed\"                      \n",
              "[140] \"kickoff_fair_catch\"                  \n",
              "[141] \"fumble_forced\"                       \n",
              "[142] \"fumble_not_forced\"                   \n",
              "[143] \"fumble_out_of_bounds\"                \n",
              "[144] \"solo_tackle\"                         \n",
              "[145] \"safety\"                              \n",
              "[146] \"penalty\"                             \n",
              "[147] \"tackled_for_loss\"                    \n",
              "[148] \"fumble_lost\"                         \n",
              "[149] \"own_kickoff_recovery\"                \n",
              "[150] \"own_kickoff_recovery_td\"             \n",
              "[151] \"qb_hit\"                              \n",
              "[152] \"rush_attempt\"                        \n",
              "[153] \"pass_attempt\"                        \n",
              "[154] \"sack\"                                \n",
              "[155] \"touchdown\"                           \n",
              "[156] \"pass_touchdown\"                      \n",
              "[157] \"rush_touchdown\"                      \n",
              "[158] \"return_touchdown\"                    \n",
              "[159] \"extra_point_attempt\"                 \n",
              "[160] \"two_point_attempt\"                   \n",
              "[161] \"field_goal_attempt\"                  \n",
              "[162] \"kickoff_attempt\"                     \n",
              "[163] \"punt_attempt\"                        \n",
              "[164] \"fumble\"                              \n",
              "[165] \"complete_pass\"                       \n",
              "[166] \"assist_tackle\"                       \n",
              "[167] \"lateral_reception\"                   \n",
              "[168] \"lateral_rush\"                        \n",
              "[169] \"lateral_return\"                      \n",
              "[170] \"lateral_recovery\"                    \n",
              "[171] \"passer_player_id\"                    \n",
              "[172] \"passer_player_name\"                  \n",
              "[173] \"passing_yards\"                       \n",
              "[174] \"receiver_player_id\"                  \n",
              "[175] \"receiver_player_name\"                \n",
              "[176] \"receiving_yards\"                     \n",
              "[177] \"rusher_player_id\"                    \n",
              "[178] \"rusher_player_name\"                  \n",
              "[179] \"rushing_yards\"                       \n",
              "[180] \"lateral_receiver_player_id\"          \n",
              "[181] \"lateral_receiver_player_name\"        \n",
              "[182] \"lateral_receiving_yards\"             \n",
              "[183] \"lateral_rusher_player_id\"            \n",
              "[184] \"lateral_rusher_player_name\"          \n",
              "[185] \"lateral_rushing_yards\"               \n",
              "[186] \"lateral_sack_player_id\"              \n",
              "[187] \"lateral_sack_player_name\"            \n",
              "[188] \"interception_player_id\"              \n",
              "[189] \"interception_player_name\"            \n",
              "[190] \"lateral_interception_player_id\"      \n",
              "[191] \"lateral_interception_player_name\"    \n",
              "[192] \"punt_returner_player_id\"             \n",
              "[193] \"punt_returner_player_name\"           \n",
              "[194] \"lateral_punt_returner_player_id\"     \n",
              "[195] \"lateral_punt_returner_player_name\"   \n",
              "[196] \"kickoff_returner_player_name\"        \n",
              "[197] \"kickoff_returner_player_id\"          \n",
              "[198] \"lateral_kickoff_returner_player_id\"  \n",
              "[199] \"lateral_kickoff_returner_player_name\"\n",
              "[200] \"punter_player_id\"                    \n",
              "[201] \"punter_player_name\"                  \n",
              "[202] \"kicker_player_name\"                  \n",
              "[203] \"kicker_player_id\"                    \n",
              "[204] \"own_kickoff_recovery_player_id\"      \n",
              "[205] \"own_kickoff_recovery_player_name\"    \n",
              "[206] \"blocked_player_id\"                   \n",
              "[207] \"blocked_player_name\"                 \n",
              "[208] \"tackle_for_loss_1_player_id\"         \n",
              "[209] \"tackle_for_loss_1_player_name\"       \n",
              "[210] \"tackle_for_loss_2_player_id\"         \n",
              "[211] \"tackle_for_loss_2_player_name\"       \n",
              "[212] \"qb_hit_1_player_id\"                  \n",
              "[213] \"qb_hit_1_player_name\"                \n",
              "[214] \"qb_hit_2_player_id\"                  \n",
              "[215] \"qb_hit_2_player_name\"                \n",
              "[216] \"forced_fumble_player_1_team\"         \n",
              "[217] \"forced_fumble_player_1_player_id\"    \n",
              "[218] \"forced_fumble_player_1_player_name\"  \n",
              "[219] \"forced_fumble_player_2_team\"         \n",
              "[220] \"forced_fumble_player_2_player_id\"    \n",
              "[221] \"forced_fumble_player_2_player_name\"  \n",
              "[222] \"solo_tackle_1_team\"                  \n",
              "[223] \"solo_tackle_2_team\"                  \n",
              "[224] \"solo_tackle_1_player_id\"             \n",
              "[225] \"solo_tackle_2_player_id\"             \n",
              "[226] \"solo_tackle_1_player_name\"           \n",
              "[227] \"solo_tackle_2_player_name\"           \n",
              "[228] \"assist_tackle_1_player_id\"           \n",
              "[229] \"assist_tackle_1_player_name\"         \n",
              "[230] \"assist_tackle_1_team\"                \n",
              "[231] \"assist_tackle_2_player_id\"           \n",
              "[232] \"assist_tackle_2_player_name\"         \n",
              "[233] \"assist_tackle_2_team\"                \n",
              "[234] \"assist_tackle_3_player_id\"           \n",
              "[235] \"assist_tackle_3_player_name\"         \n",
              "[236] \"assist_tackle_3_team\"                \n",
              "[237] \"assist_tackle_4_player_id\"           \n",
              "[238] \"assist_tackle_4_player_name\"         \n",
              "[239] \"assist_tackle_4_team\"                \n",
              "[240] \"tackle_with_assist\"                  \n",
              "[241] \"tackle_with_assist_1_player_id\"      \n",
              "[242] \"tackle_with_assist_1_player_name\"    \n",
              "[243] \"tackle_with_assist_1_team\"           \n",
              "[244] \"tackle_with_assist_2_player_id\"      \n",
              "[245] \"tackle_with_assist_2_player_name\"    \n",
              "[246] \"tackle_with_assist_2_team\"           \n",
              "[247] \"pass_defense_1_player_id\"            \n",
              "[248] \"pass_defense_1_player_name\"          \n",
              "[249] \"pass_defense_2_player_id\"            \n",
              "[250] \"pass_defense_2_player_name\"          \n",
              "[251] \"fumbled_1_team\"                      \n",
              "[252] \"fumbled_1_player_id\"                 \n",
              "[253] \"fumbled_1_player_name\"               \n",
              "[254] \"fumbled_2_player_id\"                 \n",
              "[255] \"fumbled_2_player_name\"               \n",
              "[256] \"fumbled_2_team\"                      \n",
              "[257] \"fumble_recovery_1_team\"              \n",
              "[258] \"fumble_recovery_1_yards\"             \n",
              "[259] \"fumble_recovery_1_player_id\"         \n",
              "[260] \"fumble_recovery_1_player_name\"       \n",
              "[261] \"fumble_recovery_2_team\"              \n",
              "[262] \"fumble_recovery_2_yards\"             \n",
              "[263] \"fumble_recovery_2_player_id\"         \n",
              "[264] \"fumble_recovery_2_player_name\"       \n",
              "[265] \"sack_player_id\"                      \n",
              "[266] \"sack_player_name\"                    \n",
              "[267] \"half_sack_1_player_id\"               \n",
              "[268] \"half_sack_1_player_name\"             \n",
              "[269] \"half_sack_2_player_id\"               \n",
              "[270] \"half_sack_2_player_name\"             \n",
              "[271] \"return_team\"                         \n",
              "[272] \"return_yards\"                        \n",
              "[273] \"penalty_team\"                        \n",
              "[274] \"penalty_player_id\"                   \n",
              "[275] \"penalty_player_name\"                 \n",
              "[276] \"penalty_yards\"                       \n",
              "[277] \"replay_or_challenge\"                 \n",
              "[278] \"replay_or_challenge_result\"          \n",
              "[279] \"penalty_type\"                        \n",
              "[280] \"defensive_two_point_attempt\"         \n",
              "[281] \"defensive_two_point_conv\"            \n",
              "[282] \"defensive_extra_point_attempt\"       \n",
              "[283] \"defensive_extra_point_conv\"          \n",
              "[284] \"safety_player_name\"                  \n",
              "[285] \"safety_player_id\"                    \n",
              "[286] \"season\"                              \n",
              "[287] \"cp\"                                  \n",
              "[288] \"cpoe\"                                \n",
              "[289] \"series\"                              \n",
              "[290] \"series_success\"                      \n",
              "[291] \"series_result\"                       \n",
              "[292] \"order_sequence\"                      \n",
              "[293] \"start_time\"                          \n",
              "[294] \"time_of_day\"                         \n",
              "[295] \"stadium\"                             \n",
              "[296] \"weather\"                             \n",
              "[297] \"nfl_api_id\"                          \n",
              "[298] \"play_clock\"                          \n",
              "[299] \"play_deleted\"                        \n",
              "[300] \"play_type_nfl\"                       \n",
              "[301] \"special_teams_play\"                  \n",
              "[302] \"st_play_type\"                        \n",
              "[303] \"end_clock_time\"                      \n",
              "[304] \"end_yard_line\"                       \n",
              "[305] \"fixed_drive\"                         \n",
              "[306] \"fixed_drive_result\"                  \n",
              "[307] \"drive_real_start_time\"               \n",
              "[308] \"drive_play_count\"                    \n",
              "[309] \"drive_time_of_possession\"            \n",
              "[310] \"drive_first_downs\"                   \n",
              "[311] \"drive_inside20\"                      \n",
              "[312] \"drive_ended_with_score\"              \n",
              "[313] \"drive_quarter_start\"                 \n",
              "[314] \"drive_quarter_end\"                   \n",
              "[315] \"drive_yards_penalized\"               \n",
              "[316] \"drive_start_transition\"              \n",
              "[317] \"drive_end_transition\"                \n",
              "[318] \"drive_game_clock_start\"              \n",
              "[319] \"drive_game_clock_end\"                \n",
              "[320] \"drive_start_yard_line\"               \n",
              "[321] \"drive_end_yard_line\"                 \n",
              "[322] \"drive_play_id_started\"               \n",
              "[323] \"drive_play_id_ended\"                 \n",
              "[324] \"away_score\"                          \n",
              "[325] \"home_score\"                          \n",
              "[326] \"location\"                            \n",
              "[327] \"result\"                              \n",
              "[328] \"total\"                               \n",
              "[329] \"spread_line\"                         \n",
              "[330] \"total_line\"                          \n",
              "[331] \"div_game\"                            \n",
              "[332] \"roof\"                                \n",
              "[333] \"surface\"                             \n",
              "[334] \"temp\"                                \n",
              "[335] \"wind\"                                \n",
              "[336] \"home_coach\"                          \n",
              "[337] \"away_coach\"                          \n",
              "[338] \"stadium_id\"                          \n",
              "[339] \"game_stadium\"                        \n",
              "[340] \"aborted_play\"                        \n",
              "[341] \"success\"                             \n",
              "[342] \"passer\"                              \n",
              "[343] \"passer_jersey_number\"                \n",
              "[344] \"rusher\"                              \n",
              "[345] \"rusher_jersey_number\"                \n",
              "[346] \"receiver\"                            \n",
              "[347] \"receiver_jersey_number\"              \n",
              "[348] \"pass\"                                \n",
              "[349] \"rush\"                                \n",
              "[350] \"first_down\"                          \n",
              "[351] \"special\"                             \n",
              "[352] \"play\"                                \n",
              "[353] \"passer_id\"                           \n",
              "[354] \"rusher_id\"                           \n",
              "[355] \"receiver_id\"                         \n",
              "[356] \"name\"                                \n",
              "[357] \"jersey_number\"                       \n",
              "[358] \"id\"                                  \n",
              "[359] \"fantasy_player_name\"                 \n",
              "[360] \"fantasy_player_id\"                   \n",
              "[361] \"fantasy\"                             \n",
              "[362] \"fantasy_id\"                          \n",
              "[363] \"out_of_bounds\"                       \n",
              "[364] \"home_opening_kickoff\"                \n",
              "[365] \"qb_epa\"                              \n",
              "[366] \"xyac_epa\"                            \n",
              "[367] \"xyac_mean_yardage\"                   \n",
              "[368] \"xyac_median_yardage\"                 \n",
              "[369] \"xyac_success\"                        \n",
              "[370] \"xyac_fd\"                             \n",
              "[371] \"xpass\"                               \n",
              "[372] \"pass_oe\"                             "
            ]
          },
          "metadata": {}
        }
      ]
    },
    {
      "cell_type": "markdown",
      "metadata": {
        "id": "eqvOIBzabDoB"
      },
      "source": [
        "Para conhecer os times que jogam na NFL, é possível ter um retorno de dados básicos dos cada um deles. Este retorno básico pode ser transformado em um data frame, para posteriormente, ser utilizado como filtro da estrutura."
      ]
    },
    {
      "cell_type": "code",
      "metadata": {
        "id": "C0wbY1AqbDoC"
      },
      "source": [
        "times <- teams_colors_logos %>% unique()"
      ],
      "execution_count": 6,
      "outputs": []
    },
    {
      "cell_type": "code",
      "metadata": {
        "id": "A4AvesUVbDoC",
        "outputId": "4ecfc68c-3e07-4fe0-e325-235cd6a4d110",
        "colab": {
          "base_uri": "https://localhost:8080/",
          "height": 34
        }
      },
      "source": [
        "names(times)"
      ],
      "execution_count": 7,
      "outputs": [
        {
          "output_type": "display_data",
          "data": {
            "text/html": [
              "<style>\n",
              ".list-inline {list-style: none; margin:0; padding: 0}\n",
              ".list-inline>li {display: inline-block}\n",
              ".list-inline>li:not(:last-child)::after {content: \"\\00b7\"; padding: 0 .5ex}\n",
              "</style>\n",
              "<ol class=list-inline><li>'team_abbr'</li><li>'team_name'</li><li>'team_id'</li><li>'team_nick'</li><li>'team_color'</li><li>'team_color2'</li><li>'team_color3'</li><li>'team_color4'</li><li>'team_logo_wikipedia'</li><li>'team_logo_espn'</li><li>'team_wordmark'</li></ol>\n"
            ],
            "text/markdown": "1. 'team_abbr'\n2. 'team_name'\n3. 'team_id'\n4. 'team_nick'\n5. 'team_color'\n6. 'team_color2'\n7. 'team_color3'\n8. 'team_color4'\n9. 'team_logo_wikipedia'\n10. 'team_logo_espn'\n11. 'team_wordmark'\n\n\n",
            "text/latex": "\\begin{enumerate*}\n\\item 'team\\_abbr'\n\\item 'team\\_name'\n\\item 'team\\_id'\n\\item 'team\\_nick'\n\\item 'team\\_color'\n\\item 'team\\_color2'\n\\item 'team\\_color3'\n\\item 'team\\_color4'\n\\item 'team\\_logo\\_wikipedia'\n\\item 'team\\_logo\\_espn'\n\\item 'team\\_wordmark'\n\\end{enumerate*}\n",
            "text/plain": [
              " [1] \"team_abbr\"           \"team_name\"           \"team_id\"            \n",
              " [4] \"team_nick\"           \"team_color\"          \"team_color2\"        \n",
              " [7] \"team_color3\"         \"team_color4\"         \"team_logo_wikipedia\"\n",
              "[10] \"team_logo_espn\"      \"team_wordmark\"      "
            ]
          },
          "metadata": {}
        }
      ]
    },
    {
      "cell_type": "markdown",
      "metadata": {
        "id": "AUpMZffHbDoD"
      },
      "source": [
        "Aproveitando que estamos observando os times, é possível mostrar todos os seus escudos e nomes.\n",
        "Para isso, execute o bloco de codigo abaixo, e veja como é a saída:"
      ]
    },
    {
      "cell_type": "code",
      "metadata": {
        "id": "hGgUU_5DbDoE",
        "outputId": "e470e0e9-d8fb-43fd-c22d-00cc47feb57a",
        "colab": {
          "base_uri": "https://localhost:8080/",
          "height": 96
        }
      },
      "source": [
        "for (i in 1:dim(times)[1]){\n",
        "    par(mfrow=c(1,2))\n",
        "    load.image(as.character(times[i,'team_wordmark'])) %>% plot ;   \n",
        "    load.image(as.character(times[i,'team_logo_wikipedia'])) %>% plot ;   \n",
        "    print(paste(times[i,'team_name'],times[i,'team_abbr'],sep=' >> '));\n",
        "    par(mfrow=c(1,1))   \n",
        "}"
      ],
      "execution_count": null,
      "outputs": [
        {
          "output_type": "error",
          "ename": "ERROR",
          "evalue": "ignored",
          "traceback": [
            "Error in eval(expr, envir, enclos): object 'times' not found\nTraceback:\n"
          ]
        }
      ]
    },
    {
      "cell_type": "markdown",
      "metadata": {
        "id": "aZqVp8xubDoE"
      },
      "source": [
        "Vejam que é possível ter análises bem complexas e elaboradas, como por exemplo este bloco de código abaixo que foi adaptado do *Exemplo 5* de [Get Start with nflfastR](https://www.nflfastr.com/articles/nflfastR.html).\n",
        "\n",
        "> Não é objetivo desta disciplina de introdução exigir estes elementos. Coloquei aqui apenas para caráter informativo e mostrar que é possível realizar análises tão complexas quanto desejarmos."
      ]
    },
    {
      "cell_type": "code",
      "metadata": {
        "id": "9P7PhBcQbDoF",
        "outputId": "57eb38d4-8685-49c0-f11d-4fdbccc603f5",
        "colab": {
          "base_uri": "https://localhost:8080/",
          "height": 189
        }
      },
      "source": [
        "#offense <- temporada %>%\n",
        "#  dplyr::group_by(posteam) %>%\n",
        "#  dplyr::summarise(off_epa = mean(epa, na.rm = TRUE))\n",
        "\n",
        "#defense <- temporada %>%\n",
        "#  dplyr::group_by(defteam) %>%\n",
        "#  dplyr::summarise(def_epa = mean(epa, na.rm = TRUE))\n",
        "\n",
        "#logos <- teams_colors_logos %>% dplyr::select(team_abbr, team_logo_espn)\n",
        "\n",
        "#offense %>%\n",
        "#  dplyr::inner_join(defense, by = c(\"posteam\" = \"defteam\")) %>%\n",
        "#  dplyr::inner_join(logos, by = c(\"posteam\" = \"team_abbr\")) %>%\n",
        "#  ggplot2::ggplot(aes(x = off_epa, y = def_epa)) +\n",
        "#  ggplot2::geom_abline(slope = -1.5, intercept = c(.4, .3, .2, .1, 0, -.1, -.2, -.3), alpha = .2) +\n",
        "#  ggplot2::geom_hline(aes(yintercept = mean(off_epa)), color = \"red\", linetype = \"dashed\") +\n",
        "#  ggplot2::geom_vline(aes(xintercept = mean(def_epa)), color = \"red\", linetype = \"dashed\") +\n",
        "#  ggimage::geom_image(aes(image = team_logo_espn), size = 0.10, asp = 16 / 9) +\n",
        "#  ggplot2::labs(\n",
        "#    x = \"Ataque EPA/jogada\",\n",
        "#    y = \"Defesa EPA/jogada\",\n",
        "#    caption = \"Dados: @nflfastR\",\n",
        "#    title = \"2014 NFL Ataque e Defesa EPA por jogada\"\n",
        "#  ) +\n",
        "#  ggplot2::theme_bw() +\n",
        "#  ggplot2::theme(\n",
        "#    aspect.ratio = 9 / 16,\n",
        "#    plot.title = ggplot2::element_text(size = 12, hjust = 0.5, face = \"bold\")\n",
        "#  ) +\n",
        "#  ggplot2::scale_y_reverse()"
      ],
      "execution_count": null,
      "outputs": [
        {
          "output_type": "error",
          "ename": "ERROR",
          "evalue": "ignored",
          "traceback": [
            "Error in loadNamespace(x): there is no package called ‘ggimage’\nTraceback:\n",
            "1. loadNamespace(x)",
            "2. withRestarts(stop(cond), retry_loadNamespace = function() NULL)",
            "3. withOneRestart(expr, restarts[[1L]])",
            "4. doWithOneRestart(return(expr), restart)"
          ]
        }
      ]
    },
    {
      "cell_type": "markdown",
      "metadata": {
        "id": "IOi_4xy4bDoG"
      },
      "source": [
        "### Manipulação de dados  "
      ]
    },
    {
      "cell_type": "markdown",
      "metadata": {
        "id": "pmjNzU8abDoG"
      },
      "source": [
        "#### Criação dos *datasets* segmentados por variáveis  "
      ]
    },
    {
      "cell_type": "markdown",
      "metadata": {
        "id": "c3Jrri6SbDoG"
      },
      "source": [
        "**Pense no seguinte problema**. Sabendo que o time joga tanto em casa (*home_team*) quanto fora de casa (*away_team*), em qual semana o time escolhido ficou de folga. Ou seja, não há entrada de dados na variável *week*.\n",
        "\n",
        "Para esta atividade de aprofundamento mantenha o time 'SEA' escolhido, mesmo que você explore outras oportunidades posteriormente."
      ]
    },
    {
      "cell_type": "code",
      "metadata": {
        "id": "L5cCcoZvbDoH",
        "outputId": "25471e96-78f8-4406-dac0-7d8f630d4476",
        "colab": {
          "base_uri": "https://localhost:8080/",
          "height": 468
        }
      },
      "source": [
        "timeEscolhido <- 'SEA'\n",
        "\n",
        "jogosTimeEscolhido <- temporada %>% filter(home_team == timeEscolhido | away_team == timeEscolhido)\n",
        "\n",
        "table(jogosTimeEscolhido$away_team, jogosTimeEscolhido$week)"
      ],
      "execution_count": 8,
      "outputs": [
        {
          "output_type": "display_data",
          "data": {
            "text/plain": [
              "     \n",
              "        1   2   3   5   6   7   8   9  10  11  12  13  14  15  16  17  19  20\n",
              "  ARI   0   0   0   0   0   0   0   0   0   0 154   0   0   0   0   0   0   0\n",
              "  CAR   0   0   0   0   0   0   0   0   0   0   0   0   0   0   0   0 167   0\n",
              "  DAL   0   0   0   0 173   0   0   0   0   0   0   0   0   0   0   0   0   0\n",
              "  DEN   0   0 203   0   0   0   0   0   0   0   0   0   0   0   0   0   0   0\n",
              "  GB  172   0   0   0   0   0   0   0   0   0   0   0   0   0   0   0   0 192\n",
              "  LA    0   0   0   0   0   0   0   0   0   0   0   0   0   0   0 163   0   0\n",
              "  LV    0   0   0   0   0   0   0 196   0   0   0   0   0   0   0   0   0   0\n",
              "  NE    0   0   0   0   0   0   0   0   0   0   0   0   0   0   0   0   0   0\n",
              "  NYG   0   0   0   0   0   0   0   0 172   0   0   0   0   0   0   0   0   0\n",
              "  SEA   0 167   0 177   0 168 157   0   0 167   0 164 182   0 202   0   0   0\n",
              "  SF    0   0   0   0   0   0   0   0   0   0   0   0   0 164   0   0   0   0\n",
              "     \n",
              "       21\n",
              "  ARI   0\n",
              "  CAR   0\n",
              "  DAL   0\n",
              "  DEN   0\n",
              "  GB    0\n",
              "  LA    0\n",
              "  LV    0\n",
              "  NE  192\n",
              "  NYG   0\n",
              "  SEA   0\n",
              "  SF    0"
            ]
          },
          "metadata": {}
        }
      ]
    },
    {
      "cell_type": "markdown",
      "metadata": {
        "id": "W_H1IMBbbDoH"
      },
      "source": [
        "Criação dos datasets específicos, segmentando o dataset original, para facilitar a manipulação dos dados e responder às perguntas de negócio.\n",
        "\n",
        "Utilizando o pacote **Tidyverse**, crie novos conjuntos de dados a partir da função *select*. Garanta que todos datasets estejam fazendo um filtro apenas da semana 1.\n",
        "> Dica: para o filtro da semana 1, utilize a condição **week==1** na função *filter*\n",
        "\n",
        "**jogo** com as variáveis *play_id*, *home_team*, *away_team*, *away_score*, *home_score*, *total*\n",
        "\n",
        "**acoesJogadas** com as variáveis *play_id*, *rush_attempt*, pass_attempt*, *field_goal_attempt*, *down*, *time*, *qtr*, *ydstogo*, *yards_gained* \n",
        "\n",
        "**pontuacaoJogadas** com as variáveis *play_id*, *posteam*, *defteam*, *posteam_score*, *defteam_score*, *rush*, *pass*, *name*, *passer*, *rusher*, *receiver*, *interception*, *play_type*, *pass_length*, *air_yards*, *kick_distance*, *drive*, *touchdown*, *td_team*\n",
        "\n",
        "**descricaoJogadas** com as variáveis *play_id*,*desc*, *passer_player_name*, *passing_yards*, *receiver_player_name*, *punt_returner_player_name*,*name*\n",
        "\n",
        "\n",
        "> Repare que **TODOS** conjuntos de dados criados possuem a variável *play_id*, porque ela fará o relacionamento entre os conjuntos de dados, caso você queria/precise combinar conjuntos de dados para chegar à uma solução "
      ]
    },
    {
      "cell_type": "code",
      "metadata": {
        "id": "b_iECSh1bDoH"
      },
      "source": [
        "jogo <- jogosTimeEscolhido %>%\n",
        "    filter(week==1) %>%\n",
        "    select(play_id,\n",
        "           home_team, away_team, away_score, home_score, total\n",
        "          )"
      ],
      "execution_count": 9,
      "outputs": []
    },
    {
      "cell_type": "code",
      "metadata": {
        "id": "hRZbytLdbDoI"
      },
      "source": [
        "acoesJogadas <- jogosTimeEscolhido %>%\n",
        "    filter(week==1) %>%\n",
        "    select(play_id,\n",
        "           rush_attempt, pass_attempt, field_goal_attempt, down, time, qtr, ydstogo, yards_gained\n",
        "          )"
      ],
      "execution_count": 10,
      "outputs": []
    },
    {
      "cell_type": "code",
      "metadata": {
        "id": "Y1-BLhqsbDoI"
      },
      "source": [
        "pontuacaoJogadas <- jogosTimeEscolhido %>%\n",
        "    filter(week==1) %>%\n",
        "    select(play_id,\n",
        "           posteam, defteam, posteam_score, defteam_score, rush, pass, passer, rusher, receiver, interception, play_type, pass_length, air_yards, kick_distance, drive, touchdown, td_team, name\n",
        "          )"
      ],
      "execution_count": 11,
      "outputs": []
    },
    {
      "cell_type": "code",
      "metadata": {
        "id": "5-ikY7UzbDoJ"
      },
      "source": [
        "descricaoJogadas <- jogosTimeEscolhido %>%\n",
        "    filter(week==1) %>%\n",
        "    select(play_id,\n",
        "           desc, passer_player_name, passing_yards, receiver_player_name, punt_returner_player_name        \n",
        "          )"
      ],
      "execution_count": 12,
      "outputs": []
    },
    {
      "cell_type": "code",
      "metadata": {
        "id": "DsiIRMhjbDoJ",
        "outputId": "6d8e631a-64b2-4ba0-934b-c6b21b64d55f",
        "colab": {
          "base_uri": "https://localhost:8080/",
          "height": 1000
        }
      },
      "source": [
        "head(jogo)\n",
        "head(acoesJogadas)\n",
        "head(pontuacaoJogadas)\n",
        "head(descricaoJogadas)"
      ],
      "execution_count": 13,
      "outputs": [
        {
          "output_type": "display_data",
          "data": {
            "text/html": [
              "<table class=\"dataframe\">\n",
              "<caption>A nflverse_data: 6 × 6</caption>\n",
              "<thead>\n",
              "\t<tr><th scope=col>play_id</th><th scope=col>home_team</th><th scope=col>away_team</th><th scope=col>away_score</th><th scope=col>home_score</th><th scope=col>total</th></tr>\n",
              "\t<tr><th scope=col>&lt;dbl&gt;</th><th scope=col>&lt;chr&gt;</th><th scope=col>&lt;chr&gt;</th><th scope=col>&lt;int&gt;</th><th scope=col>&lt;int&gt;</th><th scope=col>&lt;int&gt;</th></tr>\n",
              "</thead>\n",
              "<tbody>\n",
              "\t<tr><td>  1</td><td>SEA</td><td>GB</td><td>16</td><td>36</td><td>52</td></tr>\n",
              "\t<tr><td> 36</td><td>SEA</td><td>GB</td><td>16</td><td>36</td><td>52</td></tr>\n",
              "\t<tr><td> 58</td><td>SEA</td><td>GB</td><td>16</td><td>36</td><td>52</td></tr>\n",
              "\t<tr><td> 79</td><td>SEA</td><td>GB</td><td>16</td><td>36</td><td>52</td></tr>\n",
              "\t<tr><td>111</td><td>SEA</td><td>GB</td><td>16</td><td>36</td><td>52</td></tr>\n",
              "\t<tr><td>132</td><td>SEA</td><td>GB</td><td>16</td><td>36</td><td>52</td></tr>\n",
              "</tbody>\n",
              "</table>\n"
            ],
            "text/markdown": "\nA nflverse_data: 6 × 6\n\n| play_id &lt;dbl&gt; | home_team &lt;chr&gt; | away_team &lt;chr&gt; | away_score &lt;int&gt; | home_score &lt;int&gt; | total &lt;int&gt; |\n|---|---|---|---|---|---|\n|   1 | SEA | GB | 16 | 36 | 52 |\n|  36 | SEA | GB | 16 | 36 | 52 |\n|  58 | SEA | GB | 16 | 36 | 52 |\n|  79 | SEA | GB | 16 | 36 | 52 |\n| 111 | SEA | GB | 16 | 36 | 52 |\n| 132 | SEA | GB | 16 | 36 | 52 |\n\n",
            "text/latex": "A nflverse\\_data: 6 × 6\n\\begin{tabular}{llllll}\n play\\_id & home\\_team & away\\_team & away\\_score & home\\_score & total\\\\\n <dbl> & <chr> & <chr> & <int> & <int> & <int>\\\\\n\\hline\n\t   1 & SEA & GB & 16 & 36 & 52\\\\\n\t  36 & SEA & GB & 16 & 36 & 52\\\\\n\t  58 & SEA & GB & 16 & 36 & 52\\\\\n\t  79 & SEA & GB & 16 & 36 & 52\\\\\n\t 111 & SEA & GB & 16 & 36 & 52\\\\\n\t 132 & SEA & GB & 16 & 36 & 52\\\\\n\\end{tabular}\n",
            "text/plain": [
              "  play_id home_team away_team away_score home_score total\n",
              "1   1     SEA       GB        16         36         52   \n",
              "2  36     SEA       GB        16         36         52   \n",
              "3  58     SEA       GB        16         36         52   \n",
              "4  79     SEA       GB        16         36         52   \n",
              "5 111     SEA       GB        16         36         52   \n",
              "6 132     SEA       GB        16         36         52   "
            ]
          },
          "metadata": {}
        },
        {
          "output_type": "display_data",
          "data": {
            "text/html": [
              "<table class=\"dataframe\">\n",
              "<caption>A nflverse_data: 6 × 9</caption>\n",
              "<thead>\n",
              "\t<tr><th scope=col>play_id</th><th scope=col>rush_attempt</th><th scope=col>pass_attempt</th><th scope=col>field_goal_attempt</th><th scope=col>down</th><th scope=col>time</th><th scope=col>qtr</th><th scope=col>ydstogo</th><th scope=col>yards_gained</th></tr>\n",
              "\t<tr><th scope=col>&lt;dbl&gt;</th><th scope=col>&lt;dbl&gt;</th><th scope=col>&lt;dbl&gt;</th><th scope=col>&lt;dbl&gt;</th><th scope=col>&lt;dbl&gt;</th><th scope=col>&lt;chr&gt;</th><th scope=col>&lt;dbl&gt;</th><th scope=col>&lt;dbl&gt;</th><th scope=col>&lt;dbl&gt;</th></tr>\n",
              "</thead>\n",
              "<tbody>\n",
              "\t<tr><td>  1</td><td>NA</td><td>NA</td><td>NA</td><td>NA</td><td>15:00</td><td>1</td><td> 0</td><td>NA</td></tr>\n",
              "\t<tr><td> 36</td><td> 0</td><td> 0</td><td> 0</td><td>NA</td><td>15:00</td><td>1</td><td> 0</td><td> 0</td></tr>\n",
              "\t<tr><td> 58</td><td> 1</td><td> 0</td><td> 0</td><td> 1</td><td>14:56</td><td>1</td><td>10</td><td> 6</td></tr>\n",
              "\t<tr><td> 79</td><td> 0</td><td> 0</td><td> 0</td><td> 2</td><td>14:30</td><td>1</td><td> 4</td><td> 0</td></tr>\n",
              "\t<tr><td>111</td><td> 1</td><td> 0</td><td> 0</td><td> 1</td><td>14:11</td><td>1</td><td>10</td><td>15</td></tr>\n",
              "\t<tr><td>132</td><td> 1</td><td> 0</td><td> 0</td><td> 1</td><td>13:32</td><td>1</td><td>10</td><td> 2</td></tr>\n",
              "</tbody>\n",
              "</table>\n"
            ],
            "text/markdown": "\nA nflverse_data: 6 × 9\n\n| play_id &lt;dbl&gt; | rush_attempt &lt;dbl&gt; | pass_attempt &lt;dbl&gt; | field_goal_attempt &lt;dbl&gt; | down &lt;dbl&gt; | time &lt;chr&gt; | qtr &lt;dbl&gt; | ydstogo &lt;dbl&gt; | yards_gained &lt;dbl&gt; |\n|---|---|---|---|---|---|---|---|---|\n|   1 | NA | NA | NA | NA | 15:00 | 1 |  0 | NA |\n|  36 |  0 |  0 |  0 | NA | 15:00 | 1 |  0 |  0 |\n|  58 |  1 |  0 |  0 |  1 | 14:56 | 1 | 10 |  6 |\n|  79 |  0 |  0 |  0 |  2 | 14:30 | 1 |  4 |  0 |\n| 111 |  1 |  0 |  0 |  1 | 14:11 | 1 | 10 | 15 |\n| 132 |  1 |  0 |  0 |  1 | 13:32 | 1 | 10 |  2 |\n\n",
            "text/latex": "A nflverse\\_data: 6 × 9\n\\begin{tabular}{lllllllll}\n play\\_id & rush\\_attempt & pass\\_attempt & field\\_goal\\_attempt & down & time & qtr & ydstogo & yards\\_gained\\\\\n <dbl> & <dbl> & <dbl> & <dbl> & <dbl> & <chr> & <dbl> & <dbl> & <dbl>\\\\\n\\hline\n\t   1 & NA & NA & NA & NA & 15:00 & 1 &  0 & NA\\\\\n\t  36 &  0 &  0 &  0 & NA & 15:00 & 1 &  0 &  0\\\\\n\t  58 &  1 &  0 &  0 &  1 & 14:56 & 1 & 10 &  6\\\\\n\t  79 &  0 &  0 &  0 &  2 & 14:30 & 1 &  4 &  0\\\\\n\t 111 &  1 &  0 &  0 &  1 & 14:11 & 1 & 10 & 15\\\\\n\t 132 &  1 &  0 &  0 &  1 & 13:32 & 1 & 10 &  2\\\\\n\\end{tabular}\n",
            "text/plain": [
              "  play_id rush_attempt pass_attempt field_goal_attempt down time  qtr ydstogo\n",
              "1   1     NA           NA           NA                 NA   15:00 1    0     \n",
              "2  36      0            0            0                 NA   15:00 1    0     \n",
              "3  58      1            0            0                  1   14:56 1   10     \n",
              "4  79      0            0            0                  2   14:30 1    4     \n",
              "5 111      1            0            0                  1   14:11 1   10     \n",
              "6 132      1            0            0                  1   13:32 1   10     \n",
              "  yards_gained\n",
              "1 NA          \n",
              "2  0          \n",
              "3  6          \n",
              "4  0          \n",
              "5 15          \n",
              "6  2          "
            ]
          },
          "metadata": {}
        },
        {
          "output_type": "display_data",
          "data": {
            "text/html": [
              "<table class=\"dataframe\">\n",
              "<caption>A nflverse_data: 6 × 19</caption>\n",
              "<thead>\n",
              "\t<tr><th scope=col>play_id</th><th scope=col>posteam</th><th scope=col>defteam</th><th scope=col>posteam_score</th><th scope=col>defteam_score</th><th scope=col>rush</th><th scope=col>pass</th><th scope=col>passer</th><th scope=col>rusher</th><th scope=col>receiver</th><th scope=col>interception</th><th scope=col>play_type</th><th scope=col>pass_length</th><th scope=col>air_yards</th><th scope=col>kick_distance</th><th scope=col>drive</th><th scope=col>touchdown</th><th scope=col>td_team</th><th scope=col>name</th></tr>\n",
              "\t<tr><th scope=col>&lt;dbl&gt;</th><th scope=col>&lt;chr&gt;</th><th scope=col>&lt;chr&gt;</th><th scope=col>&lt;dbl&gt;</th><th scope=col>&lt;dbl&gt;</th><th scope=col>&lt;dbl&gt;</th><th scope=col>&lt;dbl&gt;</th><th scope=col>&lt;chr&gt;</th><th scope=col>&lt;chr&gt;</th><th scope=col>&lt;chr&gt;</th><th scope=col>&lt;dbl&gt;</th><th scope=col>&lt;chr&gt;</th><th scope=col>&lt;chr&gt;</th><th scope=col>&lt;dbl&gt;</th><th scope=col>&lt;dbl&gt;</th><th scope=col>&lt;dbl&gt;</th><th scope=col>&lt;dbl&gt;</th><th scope=col>&lt;chr&gt;</th><th scope=col>&lt;chr&gt;</th></tr>\n",
              "</thead>\n",
              "<tbody>\n",
              "\t<tr><td>  1</td><td>NA</td><td>NA </td><td>NA</td><td>NA</td><td>0</td><td>0</td><td>NA</td><td>NA      </td><td>NA</td><td>NA</td><td>NA     </td><td>NA</td><td>NA</td><td>NA</td><td>NA</td><td>NA</td><td>NA</td><td>NA      </td></tr>\n",
              "\t<tr><td> 36</td><td>GB</td><td>SEA</td><td> 0</td><td> 0</td><td>0</td><td>0</td><td>NA</td><td>NA      </td><td>NA</td><td> 0</td><td>kickoff</td><td>NA</td><td>NA</td><td>NA</td><td> 1</td><td> 0</td><td>NA</td><td>NA      </td></tr>\n",
              "\t<tr><td> 58</td><td>GB</td><td>SEA</td><td> 0</td><td> 0</td><td>1</td><td>0</td><td>NA</td><td>E.Lacy  </td><td>NA</td><td> 0</td><td>run    </td><td>NA</td><td>NA</td><td>NA</td><td> 1</td><td> 0</td><td>NA</td><td>E.Lacy  </td></tr>\n",
              "\t<tr><td> 79</td><td>GB</td><td>SEA</td><td> 0</td><td> 0</td><td>1</td><td>0</td><td>NA</td><td>E.Lacy  </td><td>NA</td><td> 0</td><td>no_play</td><td>NA</td><td>NA</td><td>NA</td><td> 1</td><td> 0</td><td>NA</td><td>E.Lacy  </td></tr>\n",
              "\t<tr><td>111</td><td>GB</td><td>SEA</td><td> 0</td><td> 0</td><td>1</td><td>0</td><td>NA</td><td>E.Lacy  </td><td>NA</td><td> 0</td><td>run    </td><td>NA</td><td>NA</td><td>NA</td><td> 1</td><td> 0</td><td>NA</td><td>E.Lacy  </td></tr>\n",
              "\t<tr><td>132</td><td>GB</td><td>SEA</td><td> 0</td><td> 0</td><td>1</td><td>0</td><td>NA</td><td>J.Starks</td><td>NA</td><td> 0</td><td>run    </td><td>NA</td><td>NA</td><td>NA</td><td> 1</td><td> 0</td><td>NA</td><td>J.Starks</td></tr>\n",
              "</tbody>\n",
              "</table>\n"
            ],
            "text/markdown": "\nA nflverse_data: 6 × 19\n\n| play_id &lt;dbl&gt; | posteam &lt;chr&gt; | defteam &lt;chr&gt; | posteam_score &lt;dbl&gt; | defteam_score &lt;dbl&gt; | rush &lt;dbl&gt; | pass &lt;dbl&gt; | passer &lt;chr&gt; | rusher &lt;chr&gt; | receiver &lt;chr&gt; | interception &lt;dbl&gt; | play_type &lt;chr&gt; | pass_length &lt;chr&gt; | air_yards &lt;dbl&gt; | kick_distance &lt;dbl&gt; | drive &lt;dbl&gt; | touchdown &lt;dbl&gt; | td_team &lt;chr&gt; | name &lt;chr&gt; |\n|---|---|---|---|---|---|---|---|---|---|---|---|---|---|---|---|---|---|---|\n|   1 | NA | NA  | NA | NA | 0 | 0 | NA | NA       | NA | NA | NA      | NA | NA | NA | NA | NA | NA | NA       |\n|  36 | GB | SEA |  0 |  0 | 0 | 0 | NA | NA       | NA |  0 | kickoff | NA | NA | NA |  1 |  0 | NA | NA       |\n|  58 | GB | SEA |  0 |  0 | 1 | 0 | NA | E.Lacy   | NA |  0 | run     | NA | NA | NA |  1 |  0 | NA | E.Lacy   |\n|  79 | GB | SEA |  0 |  0 | 1 | 0 | NA | E.Lacy   | NA |  0 | no_play | NA | NA | NA |  1 |  0 | NA | E.Lacy   |\n| 111 | GB | SEA |  0 |  0 | 1 | 0 | NA | E.Lacy   | NA |  0 | run     | NA | NA | NA |  1 |  0 | NA | E.Lacy   |\n| 132 | GB | SEA |  0 |  0 | 1 | 0 | NA | J.Starks | NA |  0 | run     | NA | NA | NA |  1 |  0 | NA | J.Starks |\n\n",
            "text/latex": "A nflverse\\_data: 6 × 19\n\\begin{tabular}{lllllllllllllllllll}\n play\\_id & posteam & defteam & posteam\\_score & defteam\\_score & rush & pass & passer & rusher & receiver & interception & play\\_type & pass\\_length & air\\_yards & kick\\_distance & drive & touchdown & td\\_team & name\\\\\n <dbl> & <chr> & <chr> & <dbl> & <dbl> & <dbl> & <dbl> & <chr> & <chr> & <chr> & <dbl> & <chr> & <chr> & <dbl> & <dbl> & <dbl> & <dbl> & <chr> & <chr>\\\\\n\\hline\n\t   1 & NA & NA  & NA & NA & 0 & 0 & NA & NA       & NA & NA & NA      & NA & NA & NA & NA & NA & NA & NA      \\\\\n\t  36 & GB & SEA &  0 &  0 & 0 & 0 & NA & NA       & NA &  0 & kickoff & NA & NA & NA &  1 &  0 & NA & NA      \\\\\n\t  58 & GB & SEA &  0 &  0 & 1 & 0 & NA & E.Lacy   & NA &  0 & run     & NA & NA & NA &  1 &  0 & NA & E.Lacy  \\\\\n\t  79 & GB & SEA &  0 &  0 & 1 & 0 & NA & E.Lacy   & NA &  0 & no\\_play & NA & NA & NA &  1 &  0 & NA & E.Lacy  \\\\\n\t 111 & GB & SEA &  0 &  0 & 1 & 0 & NA & E.Lacy   & NA &  0 & run     & NA & NA & NA &  1 &  0 & NA & E.Lacy  \\\\\n\t 132 & GB & SEA &  0 &  0 & 1 & 0 & NA & J.Starks & NA &  0 & run     & NA & NA & NA &  1 &  0 & NA & J.Starks\\\\\n\\end{tabular}\n",
            "text/plain": [
              "  play_id posteam defteam posteam_score defteam_score rush pass passer rusher  \n",
              "1   1     NA      NA      NA            NA            0    0    NA     NA      \n",
              "2  36     GB      SEA      0             0            0    0    NA     NA      \n",
              "3  58     GB      SEA      0             0            1    0    NA     E.Lacy  \n",
              "4  79     GB      SEA      0             0            1    0    NA     E.Lacy  \n",
              "5 111     GB      SEA      0             0            1    0    NA     E.Lacy  \n",
              "6 132     GB      SEA      0             0            1    0    NA     J.Starks\n",
              "  receiver interception play_type pass_length air_yards kick_distance drive\n",
              "1 NA       NA           NA        NA          NA        NA            NA   \n",
              "2 NA        0           kickoff   NA          NA        NA             1   \n",
              "3 NA        0           run       NA          NA        NA             1   \n",
              "4 NA        0           no_play   NA          NA        NA             1   \n",
              "5 NA        0           run       NA          NA        NA             1   \n",
              "6 NA        0           run       NA          NA        NA             1   \n",
              "  touchdown td_team name    \n",
              "1 NA        NA      NA      \n",
              "2  0        NA      NA      \n",
              "3  0        NA      E.Lacy  \n",
              "4  0        NA      E.Lacy  \n",
              "5  0        NA      E.Lacy  \n",
              "6  0        NA      J.Starks"
            ]
          },
          "metadata": {}
        },
        {
          "output_type": "display_data",
          "data": {
            "text/html": [
              "<table class=\"dataframe\">\n",
              "<caption>A nflverse_data: 6 × 6</caption>\n",
              "<thead>\n",
              "\t<tr><th scope=col>play_id</th><th scope=col>desc</th><th scope=col>passer_player_name</th><th scope=col>passing_yards</th><th scope=col>receiver_player_name</th><th scope=col>punt_returner_player_name</th></tr>\n",
              "\t<tr><th scope=col>&lt;dbl&gt;</th><th scope=col>&lt;chr&gt;</th><th scope=col>&lt;chr&gt;</th><th scope=col>&lt;dbl&gt;</th><th scope=col>&lt;chr&gt;</th><th scope=col>&lt;chr&gt;</th></tr>\n",
              "</thead>\n",
              "<tbody>\n",
              "\t<tr><td>  1</td><td>GAME                                                                                                                                                               </td><td>NA</td><td>NA</td><td>NA</td><td>NA</td></tr>\n",
              "\t<tr><td> 36</td><td>4-S.Hauschka kicks 71 yards from SEA 35 to GB -6. 26-D.Harris to GB 13 for 19 yards (57-M.Morgan).                                                                 </td><td>NA</td><td>NA</td><td>NA</td><td>NA</td></tr>\n",
              "\t<tr><td> 58</td><td>(14:56) 27-E.Lacy right tackle to GB 19 for 6 yards (94-K.Williams).                                                                                               </td><td>NA</td><td>NA</td><td>NA</td><td>NA</td></tr>\n",
              "\t<tr><td> 79</td><td>(14:30) 27-E.Lacy left tackle to GB 22 for 3 yards (56-C.Avril, 50-K.Wright). PENALTY on SEA-72-M.Bennett, Defensive Offside, 5 yards, enforced at GB 19 - No Play.</td><td>NA</td><td>NA</td><td>NA</td><td>NA</td></tr>\n",
              "\t<tr><td>111</td><td>(14:11) (Shotgun) 27-E.Lacy up the middle to GB 39 for 15 yards (54-B.Wagner).                                                                                     </td><td>NA</td><td>NA</td><td>NA</td><td>NA</td></tr>\n",
              "\t<tr><td>132</td><td>(13:32) (No Huddle) 44-J.Starks right guard to GB 41 for 2 yards (31-K.Chancellor, 50-K.Wright).                                                                   </td><td>NA</td><td>NA</td><td>NA</td><td>NA</td></tr>\n",
              "</tbody>\n",
              "</table>\n"
            ],
            "text/markdown": "\nA nflverse_data: 6 × 6\n\n| play_id &lt;dbl&gt; | desc &lt;chr&gt; | passer_player_name &lt;chr&gt; | passing_yards &lt;dbl&gt; | receiver_player_name &lt;chr&gt; | punt_returner_player_name &lt;chr&gt; |\n|---|---|---|---|---|---|\n|   1 | GAME                                                                                                                                                                | NA | NA | NA | NA |\n|  36 | 4-S.Hauschka kicks 71 yards from SEA 35 to GB -6. 26-D.Harris to GB 13 for 19 yards (57-M.Morgan).                                                                  | NA | NA | NA | NA |\n|  58 | (14:56) 27-E.Lacy right tackle to GB 19 for 6 yards (94-K.Williams).                                                                                                | NA | NA | NA | NA |\n|  79 | (14:30) 27-E.Lacy left tackle to GB 22 for 3 yards (56-C.Avril, 50-K.Wright). PENALTY on SEA-72-M.Bennett, Defensive Offside, 5 yards, enforced at GB 19 - No Play. | NA | NA | NA | NA |\n| 111 | (14:11) (Shotgun) 27-E.Lacy up the middle to GB 39 for 15 yards (54-B.Wagner).                                                                                      | NA | NA | NA | NA |\n| 132 | (13:32) (No Huddle) 44-J.Starks right guard to GB 41 for 2 yards (31-K.Chancellor, 50-K.Wright).                                                                    | NA | NA | NA | NA |\n\n",
            "text/latex": "A nflverse\\_data: 6 × 6\n\\begin{tabular}{llllll}\n play\\_id & desc & passer\\_player\\_name & passing\\_yards & receiver\\_player\\_name & punt\\_returner\\_player\\_name\\\\\n <dbl> & <chr> & <chr> & <dbl> & <chr> & <chr>\\\\\n\\hline\n\t   1 & GAME                                                                                                                                                                & NA & NA & NA & NA\\\\\n\t  36 & 4-S.Hauschka kicks 71 yards from SEA 35 to GB -6. 26-D.Harris to GB 13 for 19 yards (57-M.Morgan).                                                                  & NA & NA & NA & NA\\\\\n\t  58 & (14:56) 27-E.Lacy right tackle to GB 19 for 6 yards (94-K.Williams).                                                                                                & NA & NA & NA & NA\\\\\n\t  79 & (14:30) 27-E.Lacy left tackle to GB 22 for 3 yards (56-C.Avril, 50-K.Wright). PENALTY on SEA-72-M.Bennett, Defensive Offside, 5 yards, enforced at GB 19 - No Play. & NA & NA & NA & NA\\\\\n\t 111 & (14:11) (Shotgun) 27-E.Lacy up the middle to GB 39 for 15 yards (54-B.Wagner).                                                                                      & NA & NA & NA & NA\\\\\n\t 132 & (13:32) (No Huddle) 44-J.Starks right guard to GB 41 for 2 yards (31-K.Chancellor, 50-K.Wright).                                                                    & NA & NA & NA & NA\\\\\n\\end{tabular}\n",
            "text/plain": [
              "  play_id\n",
              "1   1    \n",
              "2  36    \n",
              "3  58    \n",
              "4  79    \n",
              "5 111    \n",
              "6 132    \n",
              "  desc                                                                                                                                                               \n",
              "1 GAME                                                                                                                                                               \n",
              "2 4-S.Hauschka kicks 71 yards from SEA 35 to GB -6. 26-D.Harris to GB 13 for 19 yards (57-M.Morgan).                                                                 \n",
              "3 (14:56) 27-E.Lacy right tackle to GB 19 for 6 yards (94-K.Williams).                                                                                               \n",
              "4 (14:30) 27-E.Lacy left tackle to GB 22 for 3 yards (56-C.Avril, 50-K.Wright). PENALTY on SEA-72-M.Bennett, Defensive Offside, 5 yards, enforced at GB 19 - No Play.\n",
              "5 (14:11) (Shotgun) 27-E.Lacy up the middle to GB 39 for 15 yards (54-B.Wagner).                                                                                     \n",
              "6 (13:32) (No Huddle) 44-J.Starks right guard to GB 41 for 2 yards (31-K.Chancellor, 50-K.Wright).                                                                   \n",
              "  passer_player_name passing_yards receiver_player_name\n",
              "1 NA                 NA            NA                  \n",
              "2 NA                 NA            NA                  \n",
              "3 NA                 NA            NA                  \n",
              "4 NA                 NA            NA                  \n",
              "5 NA                 NA            NA                  \n",
              "6 NA                 NA            NA                  \n",
              "  punt_returner_player_name\n",
              "1 NA                       \n",
              "2 NA                       \n",
              "3 NA                       \n",
              "4 NA                       \n",
              "5 NA                       \n",
              "6 NA                       "
            ]
          },
          "metadata": {}
        }
      ]
    },
    {
      "cell_type": "markdown",
      "metadata": {
        "id": "m7nu3jKkbDoJ"
      },
      "source": [
        "O uso da função *inner_join* no pacote **Tidyverse** é muito útil para combinar conjunto de dados. Veja, nos exemplos abaixo, como fica a combinação destes *datasets* que foram criados anteriormente.\n",
        "\n",
        "Pense nos seguintes desafios:\n",
        "\n",
        "**1)** Combinar o resultado de **pontuacaoJogadas** que tem a informação de quando um time fez *touchdown* (significa que marcou 6 pontos no jogo) e **descricaoJogadas** onde há uma descrição da jogada. Estes conjuntos de dados estão segmentados, cada um deles possui uma parte da informação. Ao combinar estes dois conjuntos de dados é possível ter todas as variáveis juntas como se fossem um único *dataset*. Eles se combinam a partir da variável *play_id*, que é comum entre eles. A partir desta combinação, a manipulação é similar ao que já foi estudado anteriormente."
      ]
    },
    {
      "cell_type": "code",
      "metadata": {
        "id": "Gk5Eh_LYbDoK",
        "outputId": "3a039f39-1df5-4c5b-cb51-ba58807e4ccd",
        "colab": {
          "base_uri": "https://localhost:8080/",
          "height": 286
        }
      },
      "source": [
        "pontuacaoJogadas %>% #primeiro dataset \n",
        "inner_join(descricaoJogadas, by='play_id') %>% #segundo dataset combinando com o primeiro\n",
        "select(play_id, posteam, touchdown, td_team, desc) %>% #seleção de variáveis\n",
        "filter(touchdown == 1) #filtro de dados"
      ],
      "execution_count": 15,
      "outputs": [
        {
          "output_type": "display_data",
          "data": {
            "text/html": [
              "<table class=\"dataframe\">\n",
              "<caption>A nflverse_data: 6 × 5</caption>\n",
              "<thead>\n",
              "\t<tr><th scope=col>play_id</th><th scope=col>posteam</th><th scope=col>touchdown</th><th scope=col>td_team</th><th scope=col>desc</th></tr>\n",
              "\t<tr><th scope=col>&lt;dbl&gt;</th><th scope=col>&lt;chr&gt;</th><th scope=col>&lt;dbl&gt;</th><th scope=col>&lt;chr&gt;</th><th scope=col>&lt;chr&gt;</th></tr>\n",
              "</thead>\n",
              "<tbody>\n",
              "\t<tr><td> 802</td><td>GB </td><td>1</td><td>GB </td><td>(1:30) 30-J.Kuhn left guard for 2 yards, TOUCHDOWN.                                   </td></tr>\n",
              "\t<tr><td>1032</td><td>SEA</td><td>1</td><td>SEA</td><td>(13:08) (Shotgun) 3-R.Wilson pass short left to 83-R.Lockette for 33 yards, TOUCHDOWN.</td></tr>\n",
              "\t<tr><td>1560</td><td>SEA</td><td>1</td><td>SEA</td><td>(3:46) (Shotgun) 24-M.Lynch up the middle for 9 yards, TOUCHDOWN.                     </td></tr>\n",
              "\t<tr><td>2965</td><td>SEA</td><td>1</td><td>SEA</td><td>(15:00) 24-M.Lynch left tackle for 3 yards, TOUCHDOWN.                                </td></tr>\n",
              "\t<tr><td>3268</td><td>GB </td><td>1</td><td>GB </td><td>(9:37) 12-A.Rodgers pass short right to 18-R.Cobb for 3 yards, TOUCHDOWN.             </td></tr>\n",
              "\t<tr><td>3662</td><td>SEA</td><td>1</td><td>SEA</td><td>(2:37) 3-R.Wilson pass short left to 40-D.Coleman for 15 yards, TOUCHDOWN.            </td></tr>\n",
              "</tbody>\n",
              "</table>\n"
            ],
            "text/markdown": "\nA nflverse_data: 6 × 5\n\n| play_id &lt;dbl&gt; | posteam &lt;chr&gt; | touchdown &lt;dbl&gt; | td_team &lt;chr&gt; | desc &lt;chr&gt; |\n|---|---|---|---|---|\n|  802 | GB  | 1 | GB  | (1:30) 30-J.Kuhn left guard for 2 yards, TOUCHDOWN.                                    |\n| 1032 | SEA | 1 | SEA | (13:08) (Shotgun) 3-R.Wilson pass short left to 83-R.Lockette for 33 yards, TOUCHDOWN. |\n| 1560 | SEA | 1 | SEA | (3:46) (Shotgun) 24-M.Lynch up the middle for 9 yards, TOUCHDOWN.                      |\n| 2965 | SEA | 1 | SEA | (15:00) 24-M.Lynch left tackle for 3 yards, TOUCHDOWN.                                 |\n| 3268 | GB  | 1 | GB  | (9:37) 12-A.Rodgers pass short right to 18-R.Cobb for 3 yards, TOUCHDOWN.              |\n| 3662 | SEA | 1 | SEA | (2:37) 3-R.Wilson pass short left to 40-D.Coleman for 15 yards, TOUCHDOWN.             |\n\n",
            "text/latex": "A nflverse\\_data: 6 × 5\n\\begin{tabular}{lllll}\n play\\_id & posteam & touchdown & td\\_team & desc\\\\\n <dbl> & <chr> & <dbl> & <chr> & <chr>\\\\\n\\hline\n\t  802 & GB  & 1 & GB  & (1:30) 30-J.Kuhn left guard for 2 yards, TOUCHDOWN.                                   \\\\\n\t 1032 & SEA & 1 & SEA & (13:08) (Shotgun) 3-R.Wilson pass short left to 83-R.Lockette for 33 yards, TOUCHDOWN.\\\\\n\t 1560 & SEA & 1 & SEA & (3:46) (Shotgun) 24-M.Lynch up the middle for 9 yards, TOUCHDOWN.                     \\\\\n\t 2965 & SEA & 1 & SEA & (15:00) 24-M.Lynch left tackle for 3 yards, TOUCHDOWN.                                \\\\\n\t 3268 & GB  & 1 & GB  & (9:37) 12-A.Rodgers pass short right to 18-R.Cobb for 3 yards, TOUCHDOWN.             \\\\\n\t 3662 & SEA & 1 & SEA & (2:37) 3-R.Wilson pass short left to 40-D.Coleman for 15 yards, TOUCHDOWN.            \\\\\n\\end{tabular}\n",
            "text/plain": [
              "  play_id posteam touchdown td_team\n",
              "1  802    GB      1         GB     \n",
              "2 1032    SEA     1         SEA    \n",
              "3 1560    SEA     1         SEA    \n",
              "4 2965    SEA     1         SEA    \n",
              "5 3268    GB      1         GB     \n",
              "6 3662    SEA     1         SEA    \n",
              "  desc                                                                                  \n",
              "1 (1:30) 30-J.Kuhn left guard for 2 yards, TOUCHDOWN.                                   \n",
              "2 (13:08) (Shotgun) 3-R.Wilson pass short left to 83-R.Lockette for 33 yards, TOUCHDOWN.\n",
              "3 (3:46) (Shotgun) 24-M.Lynch up the middle for 9 yards, TOUCHDOWN.                     \n",
              "4 (15:00) 24-M.Lynch left tackle for 3 yards, TOUCHDOWN.                                \n",
              "5 (9:37) 12-A.Rodgers pass short right to 18-R.Cobb for 3 yards, TOUCHDOWN.             \n",
              "6 (2:37) 3-R.Wilson pass short left to 40-D.Coleman for 15 yards, TOUCHDOWN.            "
            ]
          },
          "metadata": {}
        }
      ]
    },
    {
      "cell_type": "markdown",
      "metadata": {
        "id": "8nMo_c-4bDoK"
      },
      "source": [
        "**2)** Mostrar qual foi o jogador do time da casa e quando ele recebeu o primeiro passe que permitiu correr 5 ou mais jardas.\n",
        "\n",
        "Para isso, é necessário cobinar 3 conjuntos de dados. No dataset **jogo** é possível retornar qual é o time da casa. Já em **acoesJogadas** é possível saber quantas jardar foram conquistadas (com a variável *yards_gained*). E por fim, em **pontuacaoJogadas** há o nome de quem correu com a bola (variável *rusher*). Vamos ver como fica essa combinação?"
      ]
    },
    {
      "cell_type": "code",
      "metadata": {
        "id": "OPtLp4_SbDoK",
        "outputId": "c00e6a8a-b102-4e64-b750-c28df2aa7469",
        "colab": {
          "base_uri": "https://localhost:8080/",
          "height": 129
        }
      },
      "source": [
        "jogo %>% #primeiro dataset \n",
        "inner_join(acoesJogadas, by='play_id') %>% #segundo dataset combinando com o primeiro\n",
        "inner_join(pontuacaoJogadas, by='play_id') %>% #terceiro dataset combinando com o primeiro e o segundo\n",
        "select(play_id, home_team,posteam, rusher, yards_gained, time, qtr ) %>% #seleção de variáveis\n",
        "filter( posteam == home_team | yards_gained >=5 ) %>% #filtro de dados\n",
        "head(1) #retorno apenas de 1 linha"
      ],
      "execution_count": 16,
      "outputs": [
        {
          "output_type": "display_data",
          "data": {
            "text/html": [
              "<table class=\"dataframe\">\n",
              "<caption>A nflverse_data: 1 × 7</caption>\n",
              "<thead>\n",
              "\t<tr><th scope=col>play_id</th><th scope=col>home_team</th><th scope=col>posteam</th><th scope=col>rusher</th><th scope=col>yards_gained</th><th scope=col>time</th><th scope=col>qtr</th></tr>\n",
              "\t<tr><th scope=col>&lt;dbl&gt;</th><th scope=col>&lt;chr&gt;</th><th scope=col>&lt;chr&gt;</th><th scope=col>&lt;chr&gt;</th><th scope=col>&lt;dbl&gt;</th><th scope=col>&lt;chr&gt;</th><th scope=col>&lt;dbl&gt;</th></tr>\n",
              "</thead>\n",
              "<tbody>\n",
              "\t<tr><td>58</td><td>SEA</td><td>GB</td><td>E.Lacy</td><td>6</td><td>14:56</td><td>1</td></tr>\n",
              "</tbody>\n",
              "</table>\n"
            ],
            "text/markdown": "\nA nflverse_data: 1 × 7\n\n| play_id &lt;dbl&gt; | home_team &lt;chr&gt; | posteam &lt;chr&gt; | rusher &lt;chr&gt; | yards_gained &lt;dbl&gt; | time &lt;chr&gt; | qtr &lt;dbl&gt; |\n|---|---|---|---|---|---|---|\n| 58 | SEA | GB | E.Lacy | 6 | 14:56 | 1 |\n\n",
            "text/latex": "A nflverse\\_data: 1 × 7\n\\begin{tabular}{lllllll}\n play\\_id & home\\_team & posteam & rusher & yards\\_gained & time & qtr\\\\\n <dbl> & <chr> & <chr> & <chr> & <dbl> & <chr> & <dbl>\\\\\n\\hline\n\t 58 & SEA & GB & E.Lacy & 6 & 14:56 & 1\\\\\n\\end{tabular}\n",
            "text/plain": [
              "  play_id home_team posteam rusher yards_gained time  qtr\n",
              "1 58      SEA       GB      E.Lacy 6            14:56 1  "
            ]
          },
          "metadata": {}
        }
      ]
    },
    {
      "cell_type": "markdown",
      "metadata": {
        "id": "iMNGe_3vbDoK"
      },
      "source": [
        "#### Desafios de manipulação de dados "
      ]
    },
    {
      "cell_type": "markdown",
      "metadata": {
        "id": "szeTfO_hbDoL"
      },
      "source": [
        "Com base no dataset específico **pontuacaoJogadas**, apresente os dados somente quando ouve *rush* ou *pass* na jogada. Garanta que exista também o nome ou abreviatura do time que está atacando (variável *posteam*), além dos nomes dos jogadores que estão fazendo passe,  correndo ou recebendo a bola (variáveis *passer*, *rusher* e *receiver*)"
      ]
    },
    {
      "cell_type": "code",
      "metadata": {
        "id": "FQF3gk1cbDoL",
        "colab": {
          "base_uri": "https://localhost:8080/",
          "height": 306
        },
        "outputId": "be9118b6-4c00-4f91-fe7f-d27220b1b471"
      },
      "source": [
        "pontuacaoJogadas <- jogosTimeEscolhido %>%\n",
        "    filter(rusher>=1 | pass>=1) %>%\n",
        "    select(play_id,\n",
        "           posteam, defteam, posteam_score, defteam_score, rush, pass, passer, rusher, receiver, interception, play_type, pass_length, air_yards, kick_distance, drive, touchdown, td_team, name\n",
        "          )\n",
        "head(pontuacaoJogadas)"
      ],
      "execution_count": 18,
      "outputs": [
        {
          "output_type": "display_data",
          "data": {
            "text/html": [
              "<table class=\"dataframe\">\n",
              "<caption>A nflverse_data: 6 × 19</caption>\n",
              "<thead>\n",
              "\t<tr><th scope=col>play_id</th><th scope=col>posteam</th><th scope=col>defteam</th><th scope=col>posteam_score</th><th scope=col>defteam_score</th><th scope=col>rush</th><th scope=col>pass</th><th scope=col>passer</th><th scope=col>rusher</th><th scope=col>receiver</th><th scope=col>interception</th><th scope=col>play_type</th><th scope=col>pass_length</th><th scope=col>air_yards</th><th scope=col>kick_distance</th><th scope=col>drive</th><th scope=col>touchdown</th><th scope=col>td_team</th><th scope=col>name</th></tr>\n",
              "\t<tr><th scope=col>&lt;dbl&gt;</th><th scope=col>&lt;chr&gt;</th><th scope=col>&lt;chr&gt;</th><th scope=col>&lt;dbl&gt;</th><th scope=col>&lt;dbl&gt;</th><th scope=col>&lt;dbl&gt;</th><th scope=col>&lt;dbl&gt;</th><th scope=col>&lt;chr&gt;</th><th scope=col>&lt;chr&gt;</th><th scope=col>&lt;chr&gt;</th><th scope=col>&lt;dbl&gt;</th><th scope=col>&lt;chr&gt;</th><th scope=col>&lt;chr&gt;</th><th scope=col>&lt;dbl&gt;</th><th scope=col>&lt;dbl&gt;</th><th scope=col>&lt;dbl&gt;</th><th scope=col>&lt;dbl&gt;</th><th scope=col>&lt;chr&gt;</th><th scope=col>&lt;chr&gt;</th></tr>\n",
              "</thead>\n",
              "<tbody>\n",
              "\t<tr><td> 58</td><td>GB</td><td>SEA</td><td>0</td><td>0</td><td>1</td><td>0</td><td>NA       </td><td>E.Lacy  </td><td>NA      </td><td>0</td><td>run    </td><td>NA   </td><td>NA</td><td>NA</td><td>1</td><td>0</td><td>NA</td><td>E.Lacy   </td></tr>\n",
              "\t<tr><td> 79</td><td>GB</td><td>SEA</td><td>0</td><td>0</td><td>1</td><td>0</td><td>NA       </td><td>E.Lacy  </td><td>NA      </td><td>0</td><td>no_play</td><td>NA   </td><td>NA</td><td>NA</td><td>1</td><td>0</td><td>NA</td><td>E.Lacy   </td></tr>\n",
              "\t<tr><td>111</td><td>GB</td><td>SEA</td><td>0</td><td>0</td><td>1</td><td>0</td><td>NA       </td><td>E.Lacy  </td><td>NA      </td><td>0</td><td>run    </td><td>NA   </td><td>NA</td><td>NA</td><td>1</td><td>0</td><td>NA</td><td>E.Lacy   </td></tr>\n",
              "\t<tr><td>132</td><td>GB</td><td>SEA</td><td>0</td><td>0</td><td>1</td><td>0</td><td>NA       </td><td>J.Starks</td><td>NA      </td><td>0</td><td>run    </td><td>NA   </td><td>NA</td><td>NA</td><td>1</td><td>0</td><td>NA</td><td>J.Starks </td></tr>\n",
              "\t<tr><td>153</td><td>GB</td><td>SEA</td><td>0</td><td>0</td><td>0</td><td>1</td><td>A.Rodgers</td><td>NA      </td><td>J.Nelson</td><td>0</td><td>pass   </td><td>short</td><td>-2</td><td>NA</td><td>1</td><td>0</td><td>NA</td><td>A.Rodgers</td></tr>\n",
              "\t<tr><td>177</td><td>GB</td><td>SEA</td><td>0</td><td>0</td><td>0</td><td>1</td><td>A.Rodgers</td><td>NA      </td><td>NA      </td><td>0</td><td>pass   </td><td>NA   </td><td>NA</td><td>NA</td><td>1</td><td>0</td><td>NA</td><td>A.Rodgers</td></tr>\n",
              "</tbody>\n",
              "</table>\n"
            ],
            "text/markdown": "\nA nflverse_data: 6 × 19\n\n| play_id &lt;dbl&gt; | posteam &lt;chr&gt; | defteam &lt;chr&gt; | posteam_score &lt;dbl&gt; | defteam_score &lt;dbl&gt; | rush &lt;dbl&gt; | pass &lt;dbl&gt; | passer &lt;chr&gt; | rusher &lt;chr&gt; | receiver &lt;chr&gt; | interception &lt;dbl&gt; | play_type &lt;chr&gt; | pass_length &lt;chr&gt; | air_yards &lt;dbl&gt; | kick_distance &lt;dbl&gt; | drive &lt;dbl&gt; | touchdown &lt;dbl&gt; | td_team &lt;chr&gt; | name &lt;chr&gt; |\n|---|---|---|---|---|---|---|---|---|---|---|---|---|---|---|---|---|---|---|\n|  58 | GB | SEA | 0 | 0 | 1 | 0 | NA        | E.Lacy   | NA       | 0 | run     | NA    | NA | NA | 1 | 0 | NA | E.Lacy    |\n|  79 | GB | SEA | 0 | 0 | 1 | 0 | NA        | E.Lacy   | NA       | 0 | no_play | NA    | NA | NA | 1 | 0 | NA | E.Lacy    |\n| 111 | GB | SEA | 0 | 0 | 1 | 0 | NA        | E.Lacy   | NA       | 0 | run     | NA    | NA | NA | 1 | 0 | NA | E.Lacy    |\n| 132 | GB | SEA | 0 | 0 | 1 | 0 | NA        | J.Starks | NA       | 0 | run     | NA    | NA | NA | 1 | 0 | NA | J.Starks  |\n| 153 | GB | SEA | 0 | 0 | 0 | 1 | A.Rodgers | NA       | J.Nelson | 0 | pass    | short | -2 | NA | 1 | 0 | NA | A.Rodgers |\n| 177 | GB | SEA | 0 | 0 | 0 | 1 | A.Rodgers | NA       | NA       | 0 | pass    | NA    | NA | NA | 1 | 0 | NA | A.Rodgers |\n\n",
            "text/latex": "A nflverse\\_data: 6 × 19\n\\begin{tabular}{lllllllllllllllllll}\n play\\_id & posteam & defteam & posteam\\_score & defteam\\_score & rush & pass & passer & rusher & receiver & interception & play\\_type & pass\\_length & air\\_yards & kick\\_distance & drive & touchdown & td\\_team & name\\\\\n <dbl> & <chr> & <chr> & <dbl> & <dbl> & <dbl> & <dbl> & <chr> & <chr> & <chr> & <dbl> & <chr> & <chr> & <dbl> & <dbl> & <dbl> & <dbl> & <chr> & <chr>\\\\\n\\hline\n\t  58 & GB & SEA & 0 & 0 & 1 & 0 & NA        & E.Lacy   & NA       & 0 & run     & NA    & NA & NA & 1 & 0 & NA & E.Lacy   \\\\\n\t  79 & GB & SEA & 0 & 0 & 1 & 0 & NA        & E.Lacy   & NA       & 0 & no\\_play & NA    & NA & NA & 1 & 0 & NA & E.Lacy   \\\\\n\t 111 & GB & SEA & 0 & 0 & 1 & 0 & NA        & E.Lacy   & NA       & 0 & run     & NA    & NA & NA & 1 & 0 & NA & E.Lacy   \\\\\n\t 132 & GB & SEA & 0 & 0 & 1 & 0 & NA        & J.Starks & NA       & 0 & run     & NA    & NA & NA & 1 & 0 & NA & J.Starks \\\\\n\t 153 & GB & SEA & 0 & 0 & 0 & 1 & A.Rodgers & NA       & J.Nelson & 0 & pass    & short & -2 & NA & 1 & 0 & NA & A.Rodgers\\\\\n\t 177 & GB & SEA & 0 & 0 & 0 & 1 & A.Rodgers & NA       & NA       & 0 & pass    & NA    & NA & NA & 1 & 0 & NA & A.Rodgers\\\\\n\\end{tabular}\n",
            "text/plain": [
              "  play_id posteam defteam posteam_score defteam_score rush pass passer   \n",
              "1  58     GB      SEA     0             0             1    0    NA       \n",
              "2  79     GB      SEA     0             0             1    0    NA       \n",
              "3 111     GB      SEA     0             0             1    0    NA       \n",
              "4 132     GB      SEA     0             0             1    0    NA       \n",
              "5 153     GB      SEA     0             0             0    1    A.Rodgers\n",
              "6 177     GB      SEA     0             0             0    1    A.Rodgers\n",
              "  rusher   receiver interception play_type pass_length air_yards kick_distance\n",
              "1 E.Lacy   NA       0            run       NA          NA        NA           \n",
              "2 E.Lacy   NA       0            no_play   NA          NA        NA           \n",
              "3 E.Lacy   NA       0            run       NA          NA        NA           \n",
              "4 J.Starks NA       0            run       NA          NA        NA           \n",
              "5 NA       J.Nelson 0            pass      short       -2        NA           \n",
              "6 NA       NA       0            pass      NA          NA        NA           \n",
              "  drive touchdown td_team name     \n",
              "1 1     0         NA      E.Lacy   \n",
              "2 1     0         NA      E.Lacy   \n",
              "3 1     0         NA      E.Lacy   \n",
              "4 1     0         NA      J.Starks \n",
              "5 1     0         NA      A.Rodgers\n",
              "6 1     0         NA      A.Rodgers"
            ]
          },
          "metadata": {}
        }
      ]
    },
    {
      "cell_type": "markdown",
      "metadata": {
        "id": "OzhWhNfZbDoL"
      },
      "source": [
        "Utilizando o subconjunto de dados **acoesJogadas** e **pontuacaoJogadas**, crie uma análise que retorne qual foi o jogador que conquistou mais jardas no terceiro quarto."
      ]
    },
    {
      "cell_type": "code",
      "metadata": {
        "id": "E-13Rsw_bDoL",
        "colab": {
          "base_uri": "https://localhost:8080/",
          "height": 129
        },
        "outputId": "68c012d0-832e-41b6-e378-56625fd7f73a"
      },
      "source": [
        "library(dplyr)\n",
        "acoesJogadas %>%\n",
        "inner_join(pontuacaoJogadas, by='play_id') %>%\n",
        "select(play_id, qtr, name, yards_gained) %>%\n",
        "arrange(desc(yards_gained)) %>%\n",
        "filter(qtr == 3) %>%\n",
        "head(1)"
      ],
      "execution_count": 19,
      "outputs": [
        {
          "output_type": "display_data",
          "data": {
            "text/html": [
              "<table class=\"dataframe\">\n",
              "<caption>A nflverse_data: 1 × 4</caption>\n",
              "<thead>\n",
              "\t<tr><th scope=col>play_id</th><th scope=col>qtr</th><th scope=col>name</th><th scope=col>yards_gained</th></tr>\n",
              "\t<tr><th scope=col>&lt;dbl&gt;</th><th scope=col>&lt;dbl&gt;</th><th scope=col>&lt;chr&gt;</th><th scope=col>&lt;dbl&gt;</th></tr>\n",
              "</thead>\n",
              "<tbody>\n",
              "\t<tr><td>2485</td><td>3</td><td>A.Rodgers</td><td>23</td></tr>\n",
              "</tbody>\n",
              "</table>\n"
            ],
            "text/markdown": "\nA nflverse_data: 1 × 4\n\n| play_id &lt;dbl&gt; | qtr &lt;dbl&gt; | name &lt;chr&gt; | yards_gained &lt;dbl&gt; |\n|---|---|---|---|\n| 2485 | 3 | A.Rodgers | 23 |\n\n",
            "text/latex": "A nflverse\\_data: 1 × 4\n\\begin{tabular}{llll}\n play\\_id & qtr & name & yards\\_gained\\\\\n <dbl> & <dbl> & <chr> & <dbl>\\\\\n\\hline\n\t 2485 & 3 & A.Rodgers & 23\\\\\n\\end{tabular}\n",
            "text/plain": [
              "  play_id qtr name      yards_gained\n",
              "1 2485    3   A.Rodgers 23          "
            ]
          },
          "metadata": {}
        }
      ]
    },
    {
      "cell_type": "markdown",
      "metadata": {
        "id": "N7_FLdk1bDoM"
      },
      "source": [
        "#### Desafio de geração de gráfico  "
      ]
    },
    {
      "cell_type": "markdown",
      "metadata": {
        "id": "ozO5CvzkbDoM"
      },
      "source": [
        "Crie um gráfico de linhas, mostrando a pontuação de cada time em cada *quarter*. O resultado deve ter duas linhas, uma para cada time, e cada linha será composta pela pontuação de cada um dos *quarters* sendo uma cor para cada time. O eixo X terá os *quarters* e o eixo y terá a pontuação."
      ]
    },
    {
      "cell_type": "code",
      "metadata": {
        "id": "lLqc3pBUbDoM",
        "colab": {
          "base_uri": "https://localhost:8080/",
          "height": 437
        },
        "outputId": "9ccc013d-37a7-43d2-b4e9-e507c9e2e554"
      },
      "source": [
        "library(ggplot2)\n",
        "\n",
        "acoesJogadas %>%\n",
        "inner_join(pontuacaoJogadas, by='play_id') %>%\n",
        "select(play_id, qtr, posteam, defteam, posteam_score, defteam_score, rush, pass, passer, rusher, receiver, interception, play_type, pass_length, air_yards, kick_distance, drive, touchdown, td_team, name) %>%\n",
        "filter(posteam == 'SEA' | posteam == 'GB') %>%\n",
        "ggplot(aes(x = qtr, y = posteam_score, color = posteam )) +\n",
        "  geom_line()+\n",
        "  geom_point()"
      ],
      "execution_count": 20,
      "outputs": [
        {
          "output_type": "display_data",
          "data": {
            "text/plain": [
              "plot without title"
            ],
            "image/png": "[encoded data removed]"
          },
          "metadata": {
            "image/png": {
              "width": 420,
              "height": 420
            }
          }
        }
      ]
    },
    {
      "cell_type": "markdown",
      "metadata": {
        "id": "JTIsCS8MbDoN"
      },
      "source": [
        "Crie um gráfico de barras empilhada (colunas verticais), utilizando somente as jogadas que tiveram entre 10 e 20 jardas conquistas.\n",
        "O empilhamento das barras será feito pela quantidade de jardas conquistadas (entre 10 e 20). Mantenha as barras verticais segmentadas por quarter do jogo, e por fim, crie a faceta baseada nos times.\n"
      ]
    },
    {
      "cell_type": "code",
      "metadata": {
        "id": "u-pR4ziqbDoN",
        "colab": {
          "base_uri": "https://localhost:8080/",
          "height": 437
        },
        "outputId": "b1017129-9c39-4161-e371-005ba09dabae"
      },
      "source": [
        "library(ggplot2)\n",
        "\n",
        "acoesJogadas %>%  \n",
        "inner_join(pontuacaoJogadas, by='play_id') %>% \n",
        "select(play_id, qtr, posteam, yards_gained) %>% \n",
        "filter(yards_gained>=10&yards_gained<=20) %>% \n",
        "ggplot(aes(x = qtr, y = yards_gained, fill = posteam)) +\n",
        "  geom_col()"
      ],
      "execution_count": 21,
      "outputs": [
        {
          "output_type": "display_data",
          "data": {
            "text/plain": [
              "plot without title"
            ],
            "image/png": "[encoded data removed]"
          },
          "metadata": {
            "image/png": {
              "width": 420,
              "height": 420
            }
          }
        }
      ]
    }
  ]
}